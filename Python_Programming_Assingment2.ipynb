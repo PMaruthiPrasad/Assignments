{
 "cells": [
  {
   "cell_type": "markdown",
   "id": "c6f8130a",
   "metadata": {},
   "source": [
    "1.\tWrite a Python program to convert kilometers to miles?"
   ]
  },
  {
   "cell_type": "code",
   "execution_count": 2,
   "id": "085854bb",
   "metadata": {},
   "outputs": [
    {
     "name": "stdout",
     "output_type": "stream",
     "text": [
      "enter km value: 6\n",
      "Km value in miles is: 3.72822\n"
     ]
    }
   ],
   "source": [
    "n=int(input('enter km value: '))\n",
    "miles=n*0.62137\n",
    "print('Km value in miles is:',miles)"
   ]
  },
  {
   "cell_type": "markdown",
   "id": "9d3caba8",
   "metadata": {},
   "source": [
    "2.\tWrite a Python program to convert Celsius to Fahrenheit?"
   ]
  },
  {
   "cell_type": "code",
   "execution_count": 3,
   "id": "0ae20905",
   "metadata": {},
   "outputs": [
    {
     "name": "stdout",
     "output_type": "stream",
     "text": [
      "Enter temperature value in Degree Celsius: 89\n",
      "Celsius value in Fahrenheit is:  192.20000000000002\n"
     ]
    }
   ],
   "source": [
    "n=int(input('Enter temperature value in Degree Celsius: '))\n",
    "Fahrenheit=(n*1.8)+32\n",
    "print(\"Celsius value in Fahrenheit is: \",Fahrenheit)\n"
   ]
  },
  {
   "cell_type": "markdown",
   "id": "d99960b7",
   "metadata": {},
   "source": [
    "3.\tWrite a Python program to display calendar?"
   ]
  },
  {
   "cell_type": "code",
   "execution_count": 4,
   "id": "71940a18",
   "metadata": {},
   "outputs": [
    {
     "name": "stdout",
     "output_type": "stream",
     "text": [
      "Enter year: 2022\n",
      "Enter month: 07\n",
      "     July 2022\n",
      "Mo Tu We Th Fr Sa Su\n",
      "             1  2  3\n",
      " 4  5  6  7  8  9 10\n",
      "11 12 13 14 15 16 17\n",
      "18 19 20 21 22 23 24\n",
      "25 26 27 28 29 30 31\n",
      "\n"
     ]
    }
   ],
   "source": [
    "import calendar\n",
    "\n",
    "#yy = 2014  # year\n",
    "#mm = 11    # month\n",
    "\n",
    "\n",
    "yy = int(input(\"Enter year: \"))\n",
    "mm = int(input(\"Enter month: \"))\n",
    "\n",
    "# display the calendar\n",
    "print(calendar.month(yy, mm))"
   ]
  },
  {
   "cell_type": "markdown",
   "id": "a0762879",
   "metadata": {},
   "source": [
    "4.\tWrite a Python program to solve quadratic equation?"
   ]
  },
  {
   "cell_type": "code",
   "execution_count": 5,
   "id": "21268e57",
   "metadata": {},
   "outputs": [
    {
     "name": "stdout",
     "output_type": "stream",
     "text": [
      "The solution are (-3+0j) and (-2+0j)\n"
     ]
    }
   ],
   "source": [
    "# import complex math module\n",
    "import cmath\n",
    "\n",
    "a = 1\n",
    "b = 5\n",
    "c = 6\n",
    "\n",
    "# calculate the discriminant\n",
    "d = (b**2) - (4*a*c)\n",
    "\n",
    "# find two solutions\n",
    "sol1 = (-b-cmath.sqrt(d))/(2*a)\n",
    "sol2 = (-b+cmath.sqrt(d))/(2*a)\n",
    "\n",
    "print('The solution are {0} and {1}'.format(sol1,sol2))"
   ]
  },
  {
   "cell_type": "markdown",
   "id": "6d1f038d",
   "metadata": {},
   "source": [
    "5.\tWrite a Python program to swap two variables without temp variable?"
   ]
  },
  {
   "cell_type": "code",
   "execution_count": 6,
   "id": "ea5e9251",
   "metadata": {},
   "outputs": [
    {
     "name": "stdout",
     "output_type": "stream",
     "text": [
      "enter a value: 10\n",
      "enter b value: 20\n",
      "value of a after swap is : 20\n",
      "value of b after swap is : 10\n"
     ]
    }
   ],
   "source": [
    "a=int(input('enter a value: '))\n",
    "b=int(input('enter b value: '))\n",
    "a,b=b,a\n",
    "print('value of a after swap is :',a)\n",
    "print('value of b after swap is :',b)"
   ]
  },
  {
   "cell_type": "code",
   "execution_count": null,
   "id": "b59d44b6",
   "metadata": {},
   "outputs": [],
   "source": []
  }
 ],
 "metadata": {
  "kernelspec": {
   "display_name": "Python 3 (ipykernel)",
   "language": "python",
   "name": "python3"
  },
  "language_info": {
   "codemirror_mode": {
    "name": "ipython",
    "version": 3
   },
   "file_extension": ".py",
   "mimetype": "text/x-python",
   "name": "python",
   "nbconvert_exporter": "python",
   "pygments_lexer": "ipython3",
   "version": "3.9.7"
  }
 },
 "nbformat": 4,
 "nbformat_minor": 5
}
