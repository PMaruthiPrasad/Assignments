{
 "cells": [
  {
   "cell_type": "markdown",
   "id": "0c3299b3",
   "metadata": {},
   "source": [
    "# 1.\tWrite a Python program to find words which are greater than given length k?"
   ]
  },
  {
   "cell_type": "code",
   "execution_count": 15,
   "id": "37a7c5ed",
   "metadata": {},
   "outputs": [],
   "source": [
    "def greaterK(string,k):\n",
    "    l=string.split()\n",
    "    m=[]\n",
    "    \n",
    "    for word in l:\n",
    "        if len(word)>k:\n",
    "            m.append(word)\n",
    "        \n",
    "    for ele in m:\n",
    "        print(ele,end=' ')"
   ]
  },
  {
   "cell_type": "code",
   "execution_count": 16,
   "id": "1bdda0ce",
   "metadata": {},
   "outputs": [
    {
     "name": "stdout",
     "output_type": "stream",
     "text": [
      "Write Python program words which greater given length "
     ]
    }
   ],
   "source": [
    "string='Write a Python program to find words which are greater than given length k'\n",
    "k=4\n",
    "greaterK(string,k)"
   ]
  },
  {
   "cell_type": "markdown",
   "id": "9a2e9d2c",
   "metadata": {},
   "source": [
    "# 2.\tWrite a Python program for removing i-th character from a string?"
   ]
  },
  {
   "cell_type": "code",
   "execution_count": 20,
   "id": "39059798",
   "metadata": {},
   "outputs": [],
   "source": [
    "def removeith(string,n):\n",
    "    k=''\n",
    "    count=0\n",
    "    for char in string:\n",
    "        if count!=n:\n",
    "            k+=char\n",
    "        count+=1\n",
    "    return k"
   ]
  },
  {
   "cell_type": "code",
   "execution_count": 21,
   "id": "43f399d9",
   "metadata": {},
   "outputs": [
    {
     "name": "stdout",
     "output_type": "stream",
     "text": [
      "Marthi\n"
     ]
    }
   ],
   "source": [
    "k=removeith('Maruthi',3)\n",
    "print(k)"
   ]
  },
  {
   "cell_type": "markdown",
   "id": "62a54838",
   "metadata": {},
   "source": [
    "# 3.\tWrite a Python program to split and join a string?"
   ]
  },
  {
   "cell_type": "code",
   "execution_count": 28,
   "id": "25bba359",
   "metadata": {},
   "outputs": [],
   "source": [
    "def splitJoin(stri):\n",
    "    k=stri.split()\n",
    "    print(k)\n",
    "    s=''\n",
    "    for word in k:\n",
    "        s=s+word+' '\n",
    "    print(s)"
   ]
  },
  {
   "cell_type": "code",
   "execution_count": 30,
   "id": "7a1e2158",
   "metadata": {},
   "outputs": [
    {
     "name": "stdout",
     "output_type": "stream",
     "text": [
      "['Write', 'a', 'Python', 'program', 'to', 'split', 'and', 'join', 'a', 'string?']\n",
      "Write a Python program to split and join a string? \n"
     ]
    }
   ],
   "source": [
    "string='Write a Python program to split and join a string?'\n",
    "splitJoin(string)"
   ]
  },
  {
   "cell_type": "markdown",
   "id": "996e2a9c",
   "metadata": {},
   "source": [
    "# 4.\tWrite a Python to check if a given string is binary string or not?"
   ]
  },
  {
   "cell_type": "code",
   "execution_count": 26,
   "id": "0ffb6438",
   "metadata": {},
   "outputs": [],
   "source": [
    "def checkBinary(string):\n",
    "    for char in string:\n",
    "        if char!='0' and char!='1':\n",
    "            return False\n",
    "    else:\n",
    "        return True"
   ]
  },
  {
   "cell_type": "code",
   "execution_count": 28,
   "id": "f3d4792a",
   "metadata": {},
   "outputs": [
    {
     "name": "stdout",
     "output_type": "stream",
     "text": [
      "False\n"
     ]
    }
   ],
   "source": [
    "string='000s11111'\n",
    "k=checkBinary(string)\n",
    "print(k)"
   ]
  },
  {
   "cell_type": "markdown",
   "id": "1fe90b81",
   "metadata": {},
   "source": [
    "# 5.\tWrite a Python program to find uncommon words from two Strings?"
   ]
  },
  {
   "cell_type": "code",
   "execution_count": 31,
   "id": "12e85ab5",
   "metadata": {},
   "outputs": [
    {
     "name": "stdout",
     "output_type": "stream",
     "text": [
      "Uncommon words: {'example.', 'another', 'string.', 'a', 'sample'}\n"
     ]
    }
   ],
   "source": [
    "def uncommon_words(string1, string2):\n",
    "    # Split strings into words and create sets\n",
    "    words1 = set(string1.split())\n",
    "    words2 = set(string2.split())\n",
    "\n",
    "    # Find uncommon words using symmetric difference\n",
    "    uncommon = words1.symmetric_difference(words2)\n",
    "\n",
    "    return uncommon\n",
    "\n",
    "# Example usage:\n",
    "string1 = \"This is a sample string.\"\n",
    "string2 = \"This is another example.\"\n",
    "\n",
    "uncommon = uncommon_words(string1, string2)\n",
    "print(\"Uncommon words:\", uncommon)\n"
   ]
  },
  {
   "cell_type": "markdown",
   "id": "8a0bd961",
   "metadata": {},
   "source": [
    "# 6.\tWrite a Python to find all duplicate characters in string?"
   ]
  },
  {
   "cell_type": "code",
   "execution_count": 44,
   "id": "0155a7a4",
   "metadata": {},
   "outputs": [
    {
     "name": "stdout",
     "output_type": "stream",
     "text": [
      "Duplicate characters: ['r', 'g', 'm']\n"
     ]
    }
   ],
   "source": [
    "def find_duplicates(input_string):\n",
    "    # Create an empty dictionary to store character counts\n",
    "    char_count = {}\n",
    "\n",
    "    # Initialize a list to store duplicate characters\n",
    "    duplicates = []\n",
    "\n",
    "    # Iterate through each character in the string\n",
    "    for char in input_string:\n",
    "        # Increment the count for the character in the dictionary\n",
    "        if char in char_count:\n",
    "            char_count[char] += 1\n",
    "        else:\n",
    "            char_count[char] = 1\n",
    "\n",
    "    # Iterate through the dictionary to find characters with counts greater than 1\n",
    "    for char, count in char_count.items():\n",
    "        if count > 1:\n",
    "            duplicates.append(char)\n",
    "\n",
    "    return duplicates\n",
    "\n",
    "# Example usage:\n",
    "input_str = \"programming\"\n",
    "result = find_duplicates(input_str)\n",
    "print(\"Duplicate characters:\", result)\n",
    "\n",
    "        \n",
    "    \n",
    "    "
   ]
  },
  {
   "cell_type": "markdown",
   "id": "05e306dd",
   "metadata": {},
   "source": [
    "# 7.\tWrite a Python Program to check if a string contains any special character?"
   ]
  },
  {
   "cell_type": "code",
   "execution_count": 47,
   "id": "6f3ec66e",
   "metadata": {},
   "outputs": [],
   "source": [
    "def specialChar(string):\n",
    "    l=string.split()\n",
    "    m=''\n",
    "    for word in l:\n",
    "        m+=word\n",
    "    for char in m:\n",
    "        if not char.isalnum(): \n",
    "            print(char,end=' ')\n",
    "    "
   ]
  },
  {
   "cell_type": "code",
   "execution_count": 48,
   "id": "fe6e6004",
   "metadata": {},
   "outputs": [
    {
     "name": "stdout",
     "output_type": "stream",
     "text": [
      "! @ # $ % ^ & * ( ) "
     ]
    }
   ],
   "source": [
    "string='abdc!@#$%^&*()'\n",
    "specialChar(string)"
   ]
  },
  {
   "cell_type": "code",
   "execution_count": null,
   "id": "58fa6a80",
   "metadata": {},
   "outputs": [],
   "source": []
  }
 ],
 "metadata": {
  "kernelspec": {
   "display_name": "Python 3 (ipykernel)",
   "language": "python",
   "name": "python3"
  },
  "language_info": {
   "codemirror_mode": {
    "name": "ipython",
    "version": 3
   },
   "file_extension": ".py",
   "mimetype": "text/x-python",
   "name": "python",
   "nbconvert_exporter": "python",
   "pygments_lexer": "ipython3",
   "version": "3.11.4"
  }
 },
 "nbformat": 4,
 "nbformat_minor": 5
}
