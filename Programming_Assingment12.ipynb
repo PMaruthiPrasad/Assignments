{
 "cells": [
  {
   "cell_type": "markdown",
   "id": "9519a307",
   "metadata": {},
   "source": [
    "# 1.\tWrite a Python program to Extract Unique values dictionary values?"
   ]
  },
  {
   "cell_type": "code",
   "execution_count": 1,
   "id": "3c96e995",
   "metadata": {},
   "outputs": [],
   "source": [
    "def unique(d):\n",
    "    unique_values=set()\n",
    "    for value in d.values():\n",
    "        unique_values.add(value)\n",
    "    return list(unique_values)"
   ]
  },
  {
   "cell_type": "code",
   "execution_count": 2,
   "id": "a7d5cf1d",
   "metadata": {},
   "outputs": [
    {
     "name": "stdout",
     "output_type": "stream",
     "text": [
      "[1, 2, 3]\n"
     ]
    }
   ],
   "source": [
    "d={'a':1,'b':2,'c':3 }\n",
    "k=unique(d)\n",
    "print(k)"
   ]
  },
  {
   "cell_type": "markdown",
   "id": "a4e4c3bc",
   "metadata": {},
   "source": [
    "# 2.\tWrite a Python program to find the sum of all items in a dictionary?"
   ]
  },
  {
   "cell_type": "code",
   "execution_count": 3,
   "id": "24b63457",
   "metadata": {},
   "outputs": [],
   "source": [
    "def sum_values(d):\n",
    "    s=0\n",
    "    for value in d.values():\n",
    "        s+=value\n",
    "    return s\n",
    "    \n"
   ]
  },
  {
   "cell_type": "code",
   "execution_count": 4,
   "id": "963b63f5",
   "metadata": {},
   "outputs": [
    {
     "name": "stdout",
     "output_type": "stream",
     "text": [
      "6\n"
     ]
    }
   ],
   "source": [
    "d={'a':1,'b':2,'c':3 }\n",
    "k=sum_values(d)\n",
    "print(k)"
   ]
  },
  {
   "cell_type": "markdown",
   "id": "90093d45",
   "metadata": {},
   "source": [
    "# 3.\tWrite a Python program to Merging two Dictionaries?"
   ]
  },
  {
   "cell_type": "code",
   "execution_count": 5,
   "id": "c1de3bce",
   "metadata": {},
   "outputs": [],
   "source": [
    "def merge(d1,d2):\n",
    "    merged=d1.copy()\n",
    "    merged.update(d2)\n",
    "    return merged\n",
    "    \n"
   ]
  },
  {
   "cell_type": "code",
   "execution_count": 6,
   "id": "03383d77",
   "metadata": {},
   "outputs": [
    {
     "name": "stdout",
     "output_type": "stream",
     "text": [
      "{'a': 1, 'b': 2, 'c': 3, 'd': 4}\n"
     ]
    }
   ],
   "source": [
    "d1={'a':1,'b':2}\n",
    "d2={'c':3,'d':4}\n",
    "k=merge(d1,d2)\n",
    "print(k)"
   ]
  },
  {
   "cell_type": "markdown",
   "id": "43563b99",
   "metadata": {},
   "source": [
    "# 4.\tWrite a Python program to convert key-values list to flat dictionary?"
   ]
  },
  {
   "cell_type": "code",
   "execution_count": 7,
   "id": "52c91d26",
   "metadata": {},
   "outputs": [],
   "source": [
    "def flat_dict(l):\n",
    "    flat={}\n",
    "    for pair in l:\n",
    "        if len(pair)!=2:\n",
    "            raise ValueError(\"each element in list should be a key & value pair\")\n",
    "        key,value=pair\n",
    "        flat[key]=value\n",
    "    return flat\n",
    "    \n"
   ]
  },
  {
   "cell_type": "code",
   "execution_count": 8,
   "id": "aa15e80b",
   "metadata": {},
   "outputs": [
    {
     "name": "stdout",
     "output_type": "stream",
     "text": [
      "{'a': 1, 'b': 2}\n"
     ]
    }
   ],
   "source": [
    "l=[('a',1),('b',2)]\n",
    "k=flat_dict(l)\n",
    "print(k)"
   ]
  },
  {
   "cell_type": "markdown",
   "id": "cdb0e9c8",
   "metadata": {},
   "source": [
    "# 5.\tWrite a Python program to insertion at the beginning in OrderedDict?"
   ]
  },
  {
   "cell_type": "code",
   "execution_count": 9,
   "id": "271e7b35",
   "metadata": {},
   "outputs": [],
   "source": [
    "from collections import OrderedDict\n",
    "\n",
    "def insert_beg(od, key, value):\n",
    "    new_dict = OrderedDict({key: value})\n",
    "    new_dict.update(od)\n",
    "    return new_dict\n",
    "\n",
    "\n"
   ]
  },
  {
   "cell_type": "code",
   "execution_count": 10,
   "id": "f9d89845",
   "metadata": {},
   "outputs": [
    {
     "name": "stdout",
     "output_type": "stream",
     "text": [
      "OrderedDict([('x', 3), ('a', 1), ('b', 2)])\n"
     ]
    }
   ],
   "source": [
    "od = OrderedDict([('a', 1), ('b', 2)])\n",
    "k = insert_beg(od, 'x', 3)\n",
    "print(k)"
   ]
  },
  {
   "cell_type": "markdown",
   "id": "2cc9ed95",
   "metadata": {},
   "source": [
    "# 6.\tWrite a Python program to check order of character in string using OrderedDict()?"
   ]
  },
  {
   "cell_type": "code",
   "execution_count": 11,
   "id": "47ceee9c",
   "metadata": {},
   "outputs": [],
   "source": [
    "from collections import OrderedDict\n",
    "\n",
    "def check_order_of_chars(input_string, pattern):\n",
    "    char_order = OrderedDict()\n",
    "    \n",
    "    # Initialize a counter to keep track of the position of characters in the pattern\n",
    "    pattern_pos = 0\n",
    "    \n",
    "    for char in input_string:\n",
    "        if char == pattern[pattern_pos]:\n",
    "            # If the current character matches the expected character in the pattern\n",
    "            char_order[char] = None\n",
    "            pattern_pos += 1\n",
    "            \n",
    "            # If we have found all characters in the pattern, return True\n",
    "            if pattern_pos == len(pattern):\n",
    "                return True\n",
    "    \n",
    "    # If we have iterated through the entire input string without finding the pattern, return False\n",
    "    return False\n",
    "\n",
    "\n"
   ]
  },
  {
   "cell_type": "code",
   "execution_count": 12,
   "id": "3b090bea",
   "metadata": {},
   "outputs": [
    {
     "name": "stdout",
     "output_type": "stream",
     "text": [
      "The order of characters 'lo' is present in the string.\n"
     ]
    }
   ],
   "source": [
    "# Example usage\n",
    "input_str = \"hello world\"\n",
    "pattern = \"lo\"\n",
    "\n",
    "result = check_order_of_chars(input_str, pattern)\n",
    "\n",
    "if result:\n",
    "    print(f\"The order of characters '{pattern}' is present in the string.\")\n",
    "else:\n",
    "    print(f\"The order of characters '{pattern}' is not present in the string.\")"
   ]
  },
  {
   "cell_type": "markdown",
   "id": "cd3ac210",
   "metadata": {},
   "source": [
    "# 7.\tWrite a Python program to sort Python Dictionaries by Key or Value?"
   ]
  },
  {
   "cell_type": "code",
   "execution_count": 15,
   "id": "dedb421e",
   "metadata": {},
   "outputs": [],
   "source": [
    "def sort_by_key(d):\n",
    "    sorted_dict=dict(sorted(d.items()))\n",
    "    return sorted_dict"
   ]
  },
  {
   "cell_type": "code",
   "execution_count": 17,
   "id": "8c28eed1",
   "metadata": {},
   "outputs": [
    {
     "name": "stdout",
     "output_type": "stream",
     "text": [
      "{'apple': 3, 'banana': 1, 'cherry': 2, 'date': 4}\n"
     ]
    }
   ],
   "source": [
    "d={'apple': 3,  'cherry': 2, 'banana': 1,'date': 4}\n",
    "k=sort_by_key(d)\n",
    "print(k)"
   ]
  },
  {
   "cell_type": "code",
   "execution_count": 21,
   "id": "ab189eeb",
   "metadata": {},
   "outputs": [],
   "source": [
    "def sort_by_value(d):\n",
    "    sorted_dict_by_values = dict(sorted(d.items(), key=lambda item: item[1]))\n",
    "    return sorted_dict_by_values\n"
   ]
  },
  {
   "cell_type": "code",
   "execution_count": 22,
   "id": "fd59a1dc",
   "metadata": {},
   "outputs": [
    {
     "name": "stdout",
     "output_type": "stream",
     "text": [
      "{'banana': 1, 'cherry': 2, 'apple': 3, 'date': 4}\n"
     ]
    }
   ],
   "source": [
    "# Sample dictionary\n",
    "d = {'apple': 3, 'banana': 1, 'cherry': 2, 'date': 4}\n",
    "k=sort_by_value(d)\n",
    "print(k)"
   ]
  },
  {
   "cell_type": "code",
   "execution_count": null,
   "id": "95f7d20d",
   "metadata": {},
   "outputs": [],
   "source": []
  }
 ],
 "metadata": {
  "kernelspec": {
   "display_name": "Python 3 (ipykernel)",
   "language": "python",
   "name": "python3"
  },
  "language_info": {
   "codemirror_mode": {
    "name": "ipython",
    "version": 3
   },
   "file_extension": ".py",
   "mimetype": "text/x-python",
   "name": "python",
   "nbconvert_exporter": "python",
   "pygments_lexer": "ipython3",
   "version": "3.11.4"
  }
 },
 "nbformat": 4,
 "nbformat_minor": 5
}
