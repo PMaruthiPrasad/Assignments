{
 "cells": [
  {
   "cell_type": "raw",
   "id": "56ddcbec",
   "metadata": {},
   "source": [
    "Question 1:\n",
    "\n",
    "Write a program that calculates and prints the value according to the given formula:\n",
    "\n",
    "Q = Square root of [(2 * C * D)/H]\n",
    "\n",
    "Following are the fixed values of C and H:\n",
    "\n",
    "C is 50. H is 30.\n",
    "\n",
    "D is the variable whose values should be input to your program in a comma-separated sequence.\n",
    "\n",
    "Example\n",
    "\n",
    "Let us assume the following comma separated input sequence is given to the program:\n",
    "\n",
    "100,150,180\n",
    "\n",
    "The output of the program should be:\n",
    "\n",
    "18,22,24\n",
    "\n",
    "[1. take in put split with , take data in to list and every time print output with a for loop ]\n"
   ]
  },
  {
   "cell_type": "code",
   "execution_count": 21,
   "id": "29dbaf94",
   "metadata": {},
   "outputs": [],
   "source": [
    "def math_function():\n",
    "    l=[int(x) for x in input('Enter inputs:').split(',')]\n",
    "    m=[]\n",
    "    for d in l:\n",
    "        k=((2*50*d)/30)**(1/2)\n",
    "        m.append(k)\n",
    "    for ele in range(len(m)):\n",
    "        if ele==0:\n",
    "            print(m[ele],end='')\n",
    "        else:\n",
    "            print(',',m[ele],end='')\n",
    "        \n",
    "    \n",
    "        "
   ]
  },
  {
   "cell_type": "code",
   "execution_count": 22,
   "id": "bbc4976a",
   "metadata": {},
   "outputs": [
    {
     "name": "stdout",
     "output_type": "stream",
     "text": [
      "Enter inputs:1,2,3\n",
      "1.8257418583505538, 2.581988897471611, 3.1622776601683795"
     ]
    }
   ],
   "source": [
    "math_function()"
   ]
  },
  {
   "cell_type": "raw",
   "id": "ee04360e",
   "metadata": {},
   "source": [
    "\n",
    "Question 2:\n",
    "Write a program which takes 2 digits, X,Y as input and generates a 2-dimensional array. The element value in the i-th row and j-th column of the array should be i*j.\n",
    "\n",
    "Note: i=0,1.., X-1; j=0,1,¡¬Y-1.\n",
    "\n",
    "Example\n",
    "\n",
    "Suppose the following inputs are given to the program:\n",
    "\n",
    "3,5\n",
    "\n",
    "Then, the output of the program should be:\n",
    "\n",
    "[[0, 0, 0, 0, 0], [0, 1, 2, 3, 4], [0, 2, 4, 6, 8]] "
   ]
  },
  {
   "cell_type": "code",
   "execution_count": 7,
   "id": "ac58b0a3",
   "metadata": {},
   "outputs": [],
   "source": [
    "def matix():\n",
    "    l=input(\"Enter matix dimensions:\").split(',')\n",
    "    X,Y=int(l[0]),int(l[1])\n",
    "    result=[]\n",
    "    for i in range(X):\n",
    "        row=[]\n",
    "        for j in range(Y):\n",
    "            row.append(i*j)\n",
    "        result.append(row)\n",
    "    return result"
   ]
  },
  {
   "cell_type": "code",
   "execution_count": 8,
   "id": "ec89cbd4",
   "metadata": {},
   "outputs": [
    {
     "name": "stdout",
     "output_type": "stream",
     "text": [
      "Enter matix dimensions:3,5\n",
      "[[0, 0, 0, 0, 0], [0, 1, 2, 3, 4], [0, 2, 4, 6, 8]]\n"
     ]
    }
   ],
   "source": [
    "k=matix()\n",
    "print(k)"
   ]
  },
  {
   "cell_type": "raw",
   "id": "fedae0ae",
   "metadata": {},
   "source": [
    "Question 3:\n",
    "Write a program that accepts a comma separated sequence of words as input and prints the words in a comma-separated sequence after sorting them alphabetically.\n",
    "\n",
    "Suppose the following input is supplied to the program:\n",
    "\n",
    "without,hello,bag,world\n",
    "\n",
    "Then, the output should be:\n",
    "\n",
    "bag,hello,without,world"
   ]
  },
  {
   "cell_type": "code",
   "execution_count": 13,
   "id": "927a6cf1",
   "metadata": {},
   "outputs": [],
   "source": [
    "def sort_words():\n",
    "    words=input(\"Enter words to be sorted:\").split(',')\n",
    "    sorted_words=sorted(words,key=str.lower)\n",
    "    for word in range(len(sorted_words)):\n",
    "        if word==0:\n",
    "            print(sorted_words[word],end='')\n",
    "        else:\n",
    "            print(','+sorted_words[word],end='')\n",
    "            "
   ]
  },
  {
   "cell_type": "code",
   "execution_count": 14,
   "id": "c181c805",
   "metadata": {},
   "outputs": [
    {
     "name": "stdout",
     "output_type": "stream",
     "text": [
      "Enter words to be sorted:without,hello,bag,world\n",
      "bag,hello,without,world"
     ]
    }
   ],
   "source": [
    "sort_words()"
   ]
  },
  {
   "cell_type": "raw",
   "id": "48651a91",
   "metadata": {},
   "source": [
    "Question 4:\n",
    "Write a program that accepts a sequence of whitespace separated words as input and prints the words after removing all duplicate words and sorting them alphanumerically.\n",
    "\n",
    "Suppose the following input is supplied to the program:\n",
    "\n",
    "hello world and practice makes perfect and hello world again\n",
    "\n",
    "Then, the output should be:\n",
    "\n",
    "again and hello makes perfect practice world"
   ]
  },
  {
   "cell_type": "code",
   "execution_count": 17,
   "id": "749a5744",
   "metadata": {},
   "outputs": [],
   "source": [
    "def remove_duplicates():\n",
    "    words=input(\"Enter words to be sorted & remove duplicates:\").split()\n",
    "    #sorted_words=\n",
    "    words_set=set(words)\n",
    "    words_list=list(words_set)\n",
    "    words_sort=sorted(words_list,key=str.lower)\n",
    "    for word in words_sort:\n",
    "        print(word,end=' ')\n",
    "    "
   ]
  },
  {
   "cell_type": "code",
   "execution_count": 18,
   "id": "c7197e10",
   "metadata": {},
   "outputs": [
    {
     "name": "stdout",
     "output_type": "stream",
     "text": [
      "Enter words to be sorted & remove duplicates:hello world and practice makes perfect and hello world again\n",
      "again and hello makes perfect practice world "
     ]
    }
   ],
   "source": [
    "remove_duplicates()"
   ]
  },
  {
   "cell_type": "raw",
   "id": "62ca1a4f",
   "metadata": {},
   "source": [
    "Question 5:\n",
    "Write a program that accepts a sentence and calculate the number of letters and digits.\n",
    "\n",
    "Suppose the following input is supplied to the program:\n",
    "\n",
    "hello world! 123\n",
    "\n",
    "Then, the output should be:\n",
    "\n",
    "LETTERS 10\n",
    "\n",
    "DIGITS 3\n",
    "[2. with on for loop, maintain two counts for letters and words, once done print the output ]"
   ]
  },
  {
   "cell_type": "code",
   "execution_count": 23,
   "id": "d0348ce8",
   "metadata": {},
   "outputs": [],
   "source": [
    "def count_element():\n",
    "    word=input(\"Enter the sentence:\").replace(' ','')\n",
    "    l=0\n",
    "    d=0\n",
    "    for char in word:\n",
    "        if char.isalpha():\n",
    "            l+=1\n",
    "        elif char.isdigit():\n",
    "            d+=1\n",
    "    print(\"LETTERS\",l)\n",
    "    print('DIGITS',d)\n"
   ]
  },
  {
   "cell_type": "code",
   "execution_count": 24,
   "id": "ac4c2f4f",
   "metadata": {},
   "outputs": [
    {
     "name": "stdout",
     "output_type": "stream",
     "text": [
      "Enter the sentence:hello world! 123\n",
      "LETTERS 10\n",
      "DIGITS 3\n"
     ]
    }
   ],
   "source": [
    "count_element()"
   ]
  },
  {
   "cell_type": "raw",
   "id": "49334bb5",
   "metadata": {},
   "source": [
    "Question 6:\n",
    "A website requires the users to input username and password to register. Write a program to check the validity of password input by users.\n",
    "\n",
    "Following are the criteria for checking the password:\n",
    "\n",
    "1. At least 1 letter between [a-z]\n",
    "\n",
    "2. At least 1 number between [0-9]\n",
    "\n",
    "1. At least 1 letter between [A-Z]\n",
    "\n",
    "3. At least 1 character from [$#@]\n",
    "\n",
    "4. Minimum length of transaction password: 6\n",
    "\n",
    "5. Maximum length of transaction password: 12\n",
    "\n",
    "Your program should accept a sequence of comma separated passwords and will check them according to the above criteria. Passwords that match the criteria are to be printed, each separated by a comma.\n",
    "\n",
    "Example\n",
    "\n",
    "If the following passwords are given as input to the program:\n",
    "\n",
    "ABd1234@1,a F1#,2w3E*,2We3345\n",
    "\n",
    "Then, the output of the program should be:\n",
    "\n",
    "ABd1234@1\n",
    "\n",
    "[3. Separate passwords with , & check each letter in password will full fill all requirements then add that to empty string and print otherwise go to next password ]"
   ]
  },
  {
   "cell_type": "code",
   "execution_count": 25,
   "id": "7c24a3e0",
   "metadata": {},
   "outputs": [
    {
     "name": "stdout",
     "output_type": "stream",
     "text": [
      "Enter comma separated passwords: ABd1234@1,a F1#,2w3E*,2We3345\n",
      "ABd1234@1\n"
     ]
    }
   ],
   "source": [
    "import re\n",
    "\n",
    "def check_password(password):\n",
    "    if len(password) < 6 or len(password) > 12:\n",
    "        return False\n",
    "    if not re.search(\"[a-z]\", password):\n",
    "        return False\n",
    "    if not re.search(\"[0-9]\", password):\n",
    "        return False\n",
    "    if not re.search(\"[A-Z]\", password):\n",
    "        return False\n",
    "    if not re.search(\"[$#@]\", password):\n",
    "        return False\n",
    "    return True\n",
    "\n",
    "passwords = input(\"Enter comma separated passwords: \")\n",
    "valid_passwords = []\n",
    "\n",
    "for password in passwords.split(\",\"):\n",
    "    if check_password(password):\n",
    "        valid_passwords.append(password)\n",
    "\n",
    "print(\",\".join(valid_passwords))\n"
   ]
  },
  {
   "cell_type": "code",
   "execution_count": null,
   "id": "808fb644",
   "metadata": {},
   "outputs": [],
   "source": []
  }
 ],
 "metadata": {
  "kernelspec": {
   "display_name": "Python 3 (ipykernel)",
   "language": "python",
   "name": "python3"
  },
  "language_info": {
   "codemirror_mode": {
    "name": "ipython",
    "version": 3
   },
   "file_extension": ".py",
   "mimetype": "text/x-python",
   "name": "python",
   "nbconvert_exporter": "python",
   "pygments_lexer": "ipython3",
   "version": "3.11.4"
  }
 },
 "nbformat": 4,
 "nbformat_minor": 5
}
