{
 "cells": [
  {
   "cell_type": "markdown",
   "id": "3215a577",
   "metadata": {},
   "source": [
    "# 1.\tWrite a Python program to find sum of elements in list?"
   ]
  },
  {
   "cell_type": "code",
   "execution_count": 1,
   "id": "0173bce9",
   "metadata": {},
   "outputs": [],
   "source": [
    "def sumList(l):\n",
    "    k=0\n",
    "    for ele in l:\n",
    "        k+=ele\n",
    "    return k"
   ]
  },
  {
   "cell_type": "code",
   "execution_count": 2,
   "id": "396887c8",
   "metadata": {},
   "outputs": [
    {
     "name": "stdout",
     "output_type": "stream",
     "text": [
      "5\n"
     ]
    }
   ],
   "source": [
    "l=[1,1,1,1,1]\n",
    "k=sumList(l)\n",
    "print(k)"
   ]
  },
  {
   "cell_type": "markdown",
   "id": "dfadd96a",
   "metadata": {},
   "source": [
    "# 2.\tWrite a Python program to  Multiply all numbers in the list?"
   ]
  },
  {
   "cell_type": "code",
   "execution_count": 3,
   "id": "a193239d",
   "metadata": {},
   "outputs": [],
   "source": [
    "def mulList(l):\n",
    "    k=1\n",
    "    for ele in l:\n",
    "        k*=ele\n",
    "    return k"
   ]
  },
  {
   "cell_type": "code",
   "execution_count": 4,
   "id": "86052999",
   "metadata": {},
   "outputs": [
    {
     "name": "stdout",
     "output_type": "stream",
     "text": [
      "16\n"
     ]
    }
   ],
   "source": [
    "l=[2,2,2,2]\n",
    "k=mulList(l)\n",
    "print(k)"
   ]
  },
  {
   "cell_type": "markdown",
   "id": "daf61b53",
   "metadata": {},
   "source": [
    "# 3.\tWrite a Python program to find smallest number in a list?"
   ]
  },
  {
   "cell_type": "code",
   "execution_count": 5,
   "id": "27a5ac2d",
   "metadata": {},
   "outputs": [],
   "source": [
    "def smallList(l):\n",
    "    small=l[0]\n",
    "    for i in range(1,len(l)):\n",
    "        if l[i]<small:\n",
    "            small=l[i]\n",
    "    return small"
   ]
  },
  {
   "cell_type": "code",
   "execution_count": 6,
   "id": "afa857c3",
   "metadata": {},
   "outputs": [
    {
     "name": "stdout",
     "output_type": "stream",
     "text": [
      "1\n"
     ]
    }
   ],
   "source": [
    "l=[7,6,5,4,3,1]\n",
    "k=smallList(l)\n",
    "print(k)"
   ]
  },
  {
   "cell_type": "markdown",
   "id": "0b14b5d1",
   "metadata": {},
   "source": [
    "# 4.\tWrite a Python program to find largest number in a list?"
   ]
  },
  {
   "cell_type": "code",
   "execution_count": 7,
   "id": "fc0bd8e4",
   "metadata": {},
   "outputs": [],
   "source": [
    "def bigList(l):\n",
    "    big=l[0]\n",
    "    for i in range(1,len(l)):\n",
    "        if l[i]>big:\n",
    "            big=l[i]\n",
    "    return big"
   ]
  },
  {
   "cell_type": "code",
   "execution_count": 8,
   "id": "61935d40",
   "metadata": {},
   "outputs": [
    {
     "name": "stdout",
     "output_type": "stream",
     "text": [
      "7\n"
     ]
    }
   ],
   "source": [
    "l=[7,6,5,4,3,1]\n",
    "k=bigList(l)\n",
    "print(k)"
   ]
  },
  {
   "cell_type": "markdown",
   "id": "3008d804",
   "metadata": {},
   "source": [
    "# 5.\tWrite a Python program to find second largest number in a list?"
   ]
  },
  {
   "cell_type": "code",
   "execution_count": 13,
   "id": "32cfbddc",
   "metadata": {},
   "outputs": [],
   "source": [
    "def secondBig(l):\n",
    "    big=l[0]\n",
    "    for i in range(1,len(l)):\n",
    "        if l[i]>big:\n",
    "            big=l[i]\n",
    "    for "
   ]
  },
  {
   "cell_type": "code",
   "execution_count": 14,
   "id": "68566a94",
   "metadata": {},
   "outputs": [
    {
     "name": "stdout",
     "output_type": "stream",
     "text": [
      "1\n"
     ]
    }
   ],
   "source": [
    "l=[7,6,5,4,3,1]\n",
    "k=secondBig(l)\n",
    "print(k)"
   ]
  },
  {
   "cell_type": "markdown",
   "id": "625e6a9f",
   "metadata": {},
   "source": [
    "# 6.\tWrite a Python program to find N largest elements from a list?"
   ]
  },
  {
   "cell_type": "code",
   "execution_count": 8,
   "id": "653b0970",
   "metadata": {},
   "outputs": [],
   "source": [
    "def nLargest(l,n):\n",
    "    l.sort()\n",
    "    #k=l[(len(l)-k):]\n",
    "    return l[(len(l)-n):]"
   ]
  },
  {
   "cell_type": "code",
   "execution_count": 9,
   "id": "5bb533a3",
   "metadata": {},
   "outputs": [
    {
     "name": "stdout",
     "output_type": "stream",
     "text": [
      "[6, 7, 8, 9]\n"
     ]
    }
   ],
   "source": [
    "l=[1,2,3,4,5,6,7,8,9]\n",
    "n=4\n",
    "k=nLargest(l,n)\n",
    "print(k)"
   ]
  },
  {
   "cell_type": "markdown",
   "id": "38bcbd75",
   "metadata": {},
   "source": [
    "# 7.\tWrite a Python program to print even numbers in a list?"
   ]
  },
  {
   "cell_type": "code",
   "execution_count": 19,
   "id": "557603af",
   "metadata": {},
   "outputs": [],
   "source": [
    "def printEven(l):\n",
    "    k=[]\n",
    "    for i in range(len(l)):\n",
    "        if l[i]%2==0:\n",
    "            k.append(l[i])\n",
    "    return k"
   ]
  },
  {
   "cell_type": "code",
   "execution_count": 20,
   "id": "9eccdda2",
   "metadata": {},
   "outputs": [
    {
     "name": "stdout",
     "output_type": "stream",
     "text": [
      "[2, 4, 6, 8, 10]\n"
     ]
    }
   ],
   "source": [
    "l=[1,2,3,4,5,6,7,8,9,10]\n",
    "k=printEven(l)\n",
    "print(k)"
   ]
  },
  {
   "cell_type": "markdown",
   "id": "557b257c",
   "metadata": {},
   "source": [
    "# 8.\tWrite a Python program to print odd numbers in a List?"
   ]
  },
  {
   "cell_type": "code",
   "execution_count": 21,
   "id": "18739947",
   "metadata": {},
   "outputs": [],
   "source": [
    "def printOdd(l):\n",
    "    k=[]\n",
    "    for i in range(len(l)):\n",
    "        if l[i]%2!=0:\n",
    "            k.append(l[i])\n",
    "    return k"
   ]
  },
  {
   "cell_type": "code",
   "execution_count": 22,
   "id": "cbf04321",
   "metadata": {},
   "outputs": [
    {
     "name": "stdout",
     "output_type": "stream",
     "text": [
      "[1, 3, 5, 7, 9]\n"
     ]
    }
   ],
   "source": [
    "l=[1,2,3,4,5,6,7,8,9,10]\n",
    "k=printOdd(l)\n",
    "print(k)"
   ]
  },
  {
   "cell_type": "markdown",
   "id": "b20899a6",
   "metadata": {},
   "source": [
    "# 9.\tWrite a Python program to Remove empty List from List?"
   ]
  },
  {
   "cell_type": "code",
   "execution_count": 15,
   "id": "9cbcc0a9",
   "metadata": {},
   "outputs": [],
   "source": [
    "def removeEmpty(l):\n",
    "    for ele in l:\n",
    "        if type(ele)==list:\n",
    "            if len(ele)==0:\n",
    "                l.remove(ele)\n",
    "    return l"
   ]
  },
  {
   "cell_type": "code",
   "execution_count": 16,
   "id": "f0c6ae7f",
   "metadata": {},
   "outputs": [
    {
     "name": "stdout",
     "output_type": "stream",
     "text": [
      "[1, 2, 3, [1, 2, 3], 4]\n"
     ]
    }
   ],
   "source": [
    "l=[1,2,3,[1,2,3],[],4]\n",
    "k=removeEmpty(l)\n",
    "print(k)"
   ]
  },
  {
   "cell_type": "markdown",
   "id": "69d25df0",
   "metadata": {},
   "source": [
    "# 10.\tWrite a Python program to Cloning or Copying a list?"
   ]
  },
  {
   "cell_type": "code",
   "execution_count": 19,
   "id": "e815b140",
   "metadata": {},
   "outputs": [],
   "source": [
    "def copyList(l):\n",
    "    k=[x for x in l]\n",
    "    return k\n",
    " \n"
   ]
  },
  {
   "cell_type": "code",
   "execution_count": 20,
   "id": "48885892",
   "metadata": {},
   "outputs": [
    {
     "name": "stdout",
     "output_type": "stream",
     "text": [
      "[1, 2, 3, 4, 5, 6]\n"
     ]
    }
   ],
   "source": [
    "l=[1,2,3,4,5,6]\n",
    "k=copyList(l)\n",
    "print(k)"
   ]
  },
  {
   "cell_type": "markdown",
   "id": "d3484c87",
   "metadata": {},
   "source": [
    "# 11.\tWrite a Python program to Count occurrences of an element in a list?"
   ]
  },
  {
   "cell_type": "code",
   "execution_count": 2,
   "id": "f95b8337",
   "metadata": {},
   "outputs": [],
   "source": [
    "def countOccurrences(l):\n",
    "    k=dict()\n",
    "    for element in l:\n",
    "        if element in k:\n",
    "        # If it is, increment the count\n",
    "            k[element] += 1\n",
    "        else:\n",
    "        # If it's not, initialize the count to 1\n",
    "            k[element] = 1\n",
    "    return k\n",
    "        \n",
    "    \n",
    "        "
   ]
  },
  {
   "cell_type": "code",
   "execution_count": 3,
   "id": "e7cd503c",
   "metadata": {},
   "outputs": [
    {
     "name": "stdout",
     "output_type": "stream",
     "text": [
      "{1: 2, 2: 2, 3: 1, 4: 1, 5: 1, 6: 1, 7: 1, 8: 1, 9: 1}\n"
     ]
    }
   ],
   "source": [
    "l=[1,1,2,2,3,4,5,6,7,8,9]\n",
    "k=countOccurrences(l)\n",
    "print(k)"
   ]
  },
  {
   "cell_type": "code",
   "execution_count": null,
   "id": "d5ba95c1",
   "metadata": {},
   "outputs": [],
   "source": []
  }
 ],
 "metadata": {
  "kernelspec": {
   "display_name": "Python 3 (ipykernel)",
   "language": "python",
   "name": "python3"
  },
  "language_info": {
   "codemirror_mode": {
    "name": "ipython",
    "version": 3
   },
   "file_extension": ".py",
   "mimetype": "text/x-python",
   "name": "python",
   "nbconvert_exporter": "python",
   "pygments_lexer": "ipython3",
   "version": "3.11.4"
  }
 },
 "nbformat": 4,
 "nbformat_minor": 5
}
