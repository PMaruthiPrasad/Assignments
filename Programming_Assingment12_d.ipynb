{
 "cells": [
  {
   "cell_type": "markdown",
   "id": "b66a88fc",
   "metadata": {},
   "source": [
    "# 1.\tWrite a Python program to Extract Unique values dictionary values?"
   ]
  },
  {
   "cell_type": "code",
   "execution_count": 1,
   "id": "5f69c1c5",
   "metadata": {},
   "outputs": [],
   "source": [
    "def unique(d):\n",
    "    unique_values=set()\n",
    "    for value in d.values():\n",
    "        unique_values.add(value)\n",
    "    return list(unique_values)"
   ]
  },
  {
   "cell_type": "code",
   "execution_count": 2,
   "id": "1579a2fe",
   "metadata": {},
   "outputs": [
    {
     "name": "stdout",
     "output_type": "stream",
     "text": [
      "[1, 2, 3]\n"
     ]
    }
   ],
   "source": [
    "d={'a':1,'b':2,'c':3 }\n",
    "k=unique(d)\n",
    "print(k)"
   ]
  },
  {
   "cell_type": "markdown",
   "id": "f4751f4c",
   "metadata": {},
   "source": [
    "# 2.\tWrite a Python program to find the sum of all items in a dictionary?"
   ]
  },
  {
   "cell_type": "code",
   "execution_count": 3,
   "id": "e40b0d70",
   "metadata": {},
   "outputs": [],
   "source": [
    "def sum_values(d):\n",
    "    s=0\n",
    "    for value in d.values():\n",
    "        s+=value\n",
    "    return s\n",
    "    \n"
   ]
  },
  {
   "cell_type": "code",
   "execution_count": 4,
   "id": "45d63a38",
   "metadata": {},
   "outputs": [
    {
     "name": "stdout",
     "output_type": "stream",
     "text": [
      "6\n"
     ]
    }
   ],
   "source": [
    "d={'a':1,'b':2,'c':3 }\n",
    "k=sum_values(d)\n",
    "print(k)"
   ]
  },
  {
   "cell_type": "markdown",
   "id": "29e2e61d",
   "metadata": {},
   "source": [
    "# 3.\tWrite a Python program to Merging two Dictionaries?"
   ]
  },
  {
   "cell_type": "code",
   "execution_count": 5,
   "id": "9fea6243",
   "metadata": {},
   "outputs": [],
   "source": [
    "def merge(d1,d2):\n",
    "    merged=d1.copy()\n",
    "    merged.update(d2)\n",
    "    return merged\n",
    "    \n"
   ]
  },
  {
   "cell_type": "code",
   "execution_count": 6,
   "id": "5a12e9c1",
   "metadata": {},
   "outputs": [
    {
     "name": "stdout",
     "output_type": "stream",
     "text": [
      "{'a': 1, 'b': 2, 'c': 3, 'd': 4}\n"
     ]
    }
   ],
   "source": [
    "d1={'a':1,'b':2}\n",
    "d2={'c':3,'d':4}\n",
    "k=merge(d1,d2)\n",
    "print(k)"
   ]
  },
  {
   "cell_type": "markdown",
   "id": "e672a826",
   "metadata": {},
   "source": [
    "# 4.\tWrite a Python program to convert key-values list to flat dictionary?"
   ]
  },
  {
   "cell_type": "code",
   "execution_count": 7,
   "id": "b154c16a",
   "metadata": {},
   "outputs": [],
   "source": [
    "def flat_dict(l):\n",
    "    flat={}\n",
    "    for pair in l:\n",
    "        if len(pair)!=2:\n",
    "            raise ValueError(\"each element in list should be a key & value pair\")\n",
    "        key,value=pair\n",
    "        flat[key]=value\n",
    "    return flat\n",
    "    \n"
   ]
  },
  {
   "cell_type": "code",
   "execution_count": 8,
   "id": "c9e311f2",
   "metadata": {},
   "outputs": [
    {
     "name": "stdout",
     "output_type": "stream",
     "text": [
      "{'a': 1, 'b': 2}\n"
     ]
    }
   ],
   "source": [
    "l=[('a',1),('b',2)]\n",
    "k=flat_dict(l)\n",
    "print(k)"
   ]
  },
  {
   "cell_type": "markdown",
   "id": "05a4ac7c",
   "metadata": {},
   "source": [
    "# 5.\tWrite a Python program to insertion at the beginning in OrderedDict?"
   ]
  },
  {
   "cell_type": "code",
   "execution_count": 9,
   "id": "a0ad8daa",
   "metadata": {},
   "outputs": [],
   "source": [
    "from collections import OrderedDict\n",
    "\n",
    "def insert_beg(od, key, value):\n",
    "    new_dict = OrderedDict({key: value})\n",
    "    new_dict.update(od)\n",
    "    return new_dict\n",
    "\n",
    "\n"
   ]
  },
  {
   "cell_type": "code",
   "execution_count": 10,
   "id": "89370d14",
   "metadata": {},
   "outputs": [
    {
     "name": "stdout",
     "output_type": "stream",
     "text": [
      "OrderedDict([('x', 3), ('a', 1), ('b', 2)])\n"
     ]
    }
   ],
   "source": [
    "od = OrderedDict([('a', 1), ('b', 2)])\n",
    "k = insert_beg(od, 'x', 3)\n",
    "print(k)"
   ]
  },
  {
   "cell_type": "markdown",
   "id": "f3c7c315",
   "metadata": {},
   "source": [
    "# 6.\tWrite a Python program to check order of character in string using OrderedDict()?"
   ]
  },
  {
   "cell_type": "code",
   "execution_count": 11,
   "id": "9c856613",
   "metadata": {},
   "outputs": [],
   "source": [
    "from collections import OrderedDict\n",
    "\n",
    "def check_order_of_chars(input_string, pattern):\n",
    "    char_order = OrderedDict()\n",
    "    \n",
    "    # Initialize a counter to keep track of the position of characters in the pattern\n",
    "    pattern_pos = 0\n",
    "    \n",
    "    for char in input_string:\n",
    "        if char == pattern[pattern_pos]:\n",
    "            # If the current character matches the expected character in the pattern\n",
    "            char_order[char] = None\n",
    "            pattern_pos += 1\n",
    "            \n",
    "            # If we have found all characters in the pattern, return True\n",
    "            if pattern_pos == len(pattern):\n",
    "                return True\n",
    "    \n",
    "    # If we have iterated through the entire input string without finding the pattern, return False\n",
    "    return False\n",
    "\n",
    "\n"
   ]
  },
  {
   "cell_type": "code",
   "execution_count": 12,
   "id": "ec4c78da",
   "metadata": {},
   "outputs": [
    {
     "name": "stdout",
     "output_type": "stream",
     "text": [
      "The order of characters 'lo' is present in the string.\n"
     ]
    }
   ],
   "source": [
    "# Example usage\n",
    "input_str = \"hello world\"\n",
    "pattern = \"lo\"\n",
    "\n",
    "result = check_order_of_chars(input_str, pattern)\n",
    "\n",
    "if result:\n",
    "    print(f\"The order of characters '{pattern}' is present in the string.\")\n",
    "else:\n",
    "    print(f\"The order of characters '{pattern}' is not present in the string.\")"
   ]
  },
  {
   "cell_type": "markdown",
   "id": "93e2b29f",
   "metadata": {},
   "source": [
    "# 7.\tWrite a Python program to sort Python Dictionaries by Key or Value?"
   ]
  },
  {
   "cell_type": "code",
   "execution_count": 15,
   "id": "ca79ea17",
   "metadata": {},
   "outputs": [],
   "source": [
    "def sort_by_key(d):\n",
    "    sorted_dict=dict(sorted(d.items()))\n",
    "    return sorted_dict"
   ]
  },
  {
   "cell_type": "code",
   "execution_count": 17,
   "id": "98a5da06",
   "metadata": {},
   "outputs": [
    {
     "name": "stdout",
     "output_type": "stream",
     "text": [
      "{'apple': 3, 'banana': 1, 'cherry': 2, 'date': 4}\n"
     ]
    }
   ],
   "source": [
    "d={'apple': 3,  'cherry': 2, 'banana': 1,'date': 4}\n",
    "k=sort_by_key(d)\n",
    "print(k)"
   ]
  },
  {
   "cell_type": "code",
   "execution_count": 21,
   "id": "9fcade06",
   "metadata": {},
   "outputs": [],
   "source": [
    "def sort_by_value(d):\n",
    "    sorted_dict_by_values = dict(sorted(d.items(), key=lambda item: item[1]))\n",
    "    return sorted_dict_by_values\n"
   ]
  },
  {
   "cell_type": "code",
   "execution_count": 22,
   "id": "68b26ce8",
   "metadata": {},
   "outputs": [
    {
     "name": "stdout",
     "output_type": "stream",
     "text": [
      "{'banana': 1, 'cherry': 2, 'apple': 3, 'date': 4}\n"
     ]
    }
   ],
   "source": [
    "# Sample dictionary\n",
    "d = {'apple': 3, 'banana': 1, 'cherry': 2, 'date': 4}\n",
    "k=sort_by_value(d)\n",
    "print(k)"
   ]
  },
  {
   "cell_type": "code",
   "execution_count": null,
   "id": "61f6121a",
   "metadata": {},
   "outputs": [],
   "source": []
  }
 ],
 "metadata": {
  "kernelspec": {
   "display_name": "Python 3 (ipykernel)",
   "language": "python",
   "name": "python3"
  },
  "language_info": {
   "codemirror_mode": {
    "name": "ipython",
    "version": 3
   },
   "file_extension": ".py",
   "mimetype": "text/x-python",
   "name": "python",
   "nbconvert_exporter": "python",
   "pygments_lexer": "ipython3",
   "version": "3.11.4"
  }
 },
 "nbformat": 4,
 "nbformat_minor": 5
}
