{
 "cells": [
  {
   "cell_type": "markdown",
   "id": "e851780e",
   "metadata": {},
   "source": [
    "# 1.\tWrite a Python Program to Find LCM?"
   ]
  },
  {
   "cell_type": "code",
   "execution_count": 5,
   "id": "45e0d0d3",
   "metadata": {},
   "outputs": [],
   "source": [
    "import math\n",
    "def lcm(a,b):\n",
    "    return ((a*b)/math.gcd(a,b))"
   ]
  },
  {
   "cell_type": "code",
   "execution_count": 6,
   "id": "93064768",
   "metadata": {},
   "outputs": [
    {
     "name": "stdout",
     "output_type": "stream",
     "text": [
      "40.0\n"
     ]
    }
   ],
   "source": [
    "k=lcm(20,40)\n",
    "print(k)"
   ]
  },
  {
   "cell_type": "markdown",
   "id": "009d0305",
   "metadata": {},
   "source": [
    "# 2.\tWrite a Python Program to Find HCF?"
   ]
  },
  {
   "cell_type": "code",
   "execution_count": 9,
   "id": "a6a5a04e",
   "metadata": {},
   "outputs": [],
   "source": [
    "import math\n",
    "def hcf(a,b):\n",
    "    return math.gcd(a,b)"
   ]
  },
  {
   "cell_type": "code",
   "execution_count": 10,
   "id": "fba493cd",
   "metadata": {},
   "outputs": [
    {
     "name": "stdout",
     "output_type": "stream",
     "text": [
      "20\n"
     ]
    }
   ],
   "source": [
    "k=hcf(20,40)\n",
    "print(k)"
   ]
  },
  {
   "cell_type": "markdown",
   "id": "99650da3",
   "metadata": {},
   "source": [
    "# 3.\tWrite a Python Program to Convert Decimal to Binary, Octal and Hexadecimal?"
   ]
  },
  {
   "cell_type": "code",
   "execution_count": 15,
   "id": "147141d0",
   "metadata": {},
   "outputs": [],
   "source": [
    "def decimalConversion(a):\n",
    "    b=bin(a)\n",
    "    c=oct(a)\n",
    "    d=hex(a)\n",
    "    print(f\"decimal {a} in binary:{b}, in octal:{c}, in hexa:{d}\")"
   ]
  },
  {
   "cell_type": "code",
   "execution_count": 16,
   "id": "1c4267d6",
   "metadata": {},
   "outputs": [
    {
     "name": "stdout",
     "output_type": "stream",
     "text": [
      "decimal 10 in binary:0b1010, in octal:0o12, in hexa:0xa\n"
     ]
    }
   ],
   "source": [
    "decimalConversion(10)"
   ]
  },
  {
   "cell_type": "markdown",
   "id": "e26c30f3",
   "metadata": {},
   "source": [
    "# 4.\tWrite a Python Program To Find ASCII value of a character?"
   ]
  },
  {
   "cell_type": "code",
   "execution_count": 17,
   "id": "f1a916fa",
   "metadata": {},
   "outputs": [],
   "source": [
    "def asci(char):\n",
    "    c=ord(char)\n",
    "    print(f\"ASCII value of {char} is {c}\")"
   ]
  },
  {
   "cell_type": "code",
   "execution_count": 19,
   "id": "ee7930db",
   "metadata": {},
   "outputs": [
    {
     "name": "stdout",
     "output_type": "stream",
     "text": [
      "ASCII value of a is 97\n"
     ]
    }
   ],
   "source": [
    "asci('a')"
   ]
  },
  {
   "cell_type": "markdown",
   "id": "a2885320",
   "metadata": {},
   "source": [
    "# 5.\tWrite a Python Program to Make a Simple Calculator with 4 basic mathematical operations?"
   ]
  },
  {
   "cell_type": "code",
   "execution_count": 20,
   "id": "605afc57",
   "metadata": {},
   "outputs": [],
   "source": [
    "def calculator():\n",
    "    a, b = input('Enter two integers: ').split()\n",
    "    c = input('Choose mathematical operation: add (1), subtraction (2), multiplication (3), division (4): ')\n",
    "    \n",
    "    a = int(a)\n",
    "    b = int(b)\n",
    "    \n",
    "    if c == '1':\n",
    "        result = a + b\n",
    "        operation = \"addition\"\n",
    "    elif c == '2':\n",
    "        result = a - b\n",
    "        operation = \"subtraction\"\n",
    "    elif c == '3':\n",
    "        result = a * b\n",
    "        operation = \"multiplication\"\n",
    "    elif c == '4':\n",
    "        result = a / b\n",
    "        operation = \"division\"\n",
    "    else:\n",
    "        print(\"Invalid choice\")\n",
    "        return\n",
    "    \n",
    "    print(f\"The result of {operation} of {a} and {b} is: {result}\")\n",
    "\n"
   ]
  },
  {
   "cell_type": "code",
   "execution_count": 22,
   "id": "1525115c",
   "metadata": {},
   "outputs": [
    {
     "name": "stdout",
     "output_type": "stream",
     "text": [
      "Enter two integers: 10 20\n",
      "Choose mathematical operation: add (1), subtraction (2), multiplication (3), division (4): 1\n",
      "The result of addition of 10 and 20 is: 30\n"
     ]
    }
   ],
   "source": [
    "calculator()"
   ]
  },
  {
   "cell_type": "code",
   "execution_count": null,
   "id": "5f8aa5ad",
   "metadata": {},
   "outputs": [],
   "source": []
  }
 ],
 "metadata": {
  "kernelspec": {
   "display_name": "Python 3 (ipykernel)",
   "language": "python",
   "name": "python3"
  },
  "language_info": {
   "codemirror_mode": {
    "name": "ipython",
    "version": 3
   },
   "file_extension": ".py",
   "mimetype": "text/x-python",
   "name": "python",
   "nbconvert_exporter": "python",
   "pygments_lexer": "ipython3",
   "version": "3.9.7"
  }
 },
 "nbformat": 4,
 "nbformat_minor": 5
}
