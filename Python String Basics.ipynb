{
 "cells": [
  {
   "cell_type": "code",
   "execution_count": 1,
   "id": "5da952e9",
   "metadata": {},
   "outputs": [],
   "source": [
    "s2=\"This is my first programming class's\""
   ]
  },
  {
   "cell_type": "code",
   "execution_count": 2,
   "id": "abba91fe",
   "metadata": {},
   "outputs": [
    {
     "data": {
      "text/plain": [
       "\"This is my first programming class's\""
      ]
     },
     "execution_count": 2,
     "metadata": {},
     "output_type": "execute_result"
    }
   ],
   "source": [
    "s2"
   ]
  },
  {
   "cell_type": "code",
   "execution_count": 4,
   "id": "0545868e",
   "metadata": {},
   "outputs": [
    {
     "data": {
      "text/plain": [
       "'his i'"
      ]
     },
     "execution_count": 4,
     "metadata": {},
     "output_type": "execute_result"
    }
   ],
   "source": [
    "s2[1:6]"
   ]
  },
  {
   "cell_type": "code",
   "execution_count": 5,
   "id": "36fa3fd9",
   "metadata": {},
   "outputs": [
    {
     "data": {
      "text/plain": [
       "'sm is rgamn '"
      ]
     },
     "execution_count": 5,
     "metadata": {},
     "output_type": "execute_result"
    }
   ],
   "source": [
    "s2[6:30:2]"
   ]
  },
  {
   "cell_type": "code",
   "execution_count": 6,
   "id": "37e3826d",
   "metadata": {},
   "outputs": [],
   "source": [
    "s=\"sudhanshu\""
   ]
  },
  {
   "cell_type": "code",
   "execution_count": 7,
   "id": "38d56107",
   "metadata": {},
   "outputs": [
    {
     "data": {
      "text/plain": [
       "'sudhanshu'"
      ]
     },
     "execution_count": 7,
     "metadata": {},
     "output_type": "execute_result"
    }
   ],
   "source": [
    "s[0:9:1]"
   ]
  },
  {
   "cell_type": "code",
   "execution_count": 8,
   "id": "0427ac42",
   "metadata": {},
   "outputs": [
    {
     "data": {
      "text/plain": [
       "'sdasu'"
      ]
     },
     "execution_count": 8,
     "metadata": {},
     "output_type": "execute_result"
    }
   ],
   "source": [
    "s[0:9:2]"
   ]
  },
  {
   "cell_type": "code",
   "execution_count": 9,
   "id": "7a7e8615",
   "metadata": {},
   "outputs": [
    {
     "data": {
      "text/plain": [
       "''"
      ]
     },
     "execution_count": 9,
     "metadata": {},
     "output_type": "execute_result"
    }
   ],
   "source": [
    "s[0:8:-2]"
   ]
  },
  {
   "cell_type": "code",
   "execution_count": 13,
   "id": "4f903fc1",
   "metadata": {},
   "outputs": [
    {
     "data": {
      "text/plain": [
       "'uhsnahd'"
      ]
     },
     "execution_count": 13,
     "metadata": {},
     "output_type": "execute_result"
    }
   ],
   "source": [
    "s[8:1:-1]"
   ]
  },
  {
   "cell_type": "code",
   "execution_count": 14,
   "id": "dbea35f4",
   "metadata": {},
   "outputs": [
    {
     "data": {
      "text/plain": [
       "'sudhan'"
      ]
     },
     "execution_count": 14,
     "metadata": {},
     "output_type": "execute_result"
    }
   ],
   "source": [
    "s[:-3]"
   ]
  },
  {
   "cell_type": "code",
   "execution_count": 15,
   "id": "9ea67cab",
   "metadata": {},
   "outputs": [
    {
     "data": {
      "text/plain": [
       "'hu'"
      ]
     },
     "execution_count": 15,
     "metadata": {},
     "output_type": "execute_result"
    }
   ],
   "source": [
    "s[-2:]"
   ]
  },
  {
   "cell_type": "code",
   "execution_count": 16,
   "id": "c7b62def",
   "metadata": {},
   "outputs": [
    {
     "data": {
      "text/plain": [
       "'sudhanshu'"
      ]
     },
     "execution_count": 16,
     "metadata": {},
     "output_type": "execute_result"
    }
   ],
   "source": [
    "s[::1]"
   ]
  },
  {
   "cell_type": "code",
   "execution_count": 17,
   "id": "d6b03a33",
   "metadata": {},
   "outputs": [
    {
     "data": {
      "text/plain": [
       "'uhsnahdus'"
      ]
     },
     "execution_count": 17,
     "metadata": {},
     "output_type": "execute_result"
    }
   ],
   "source": [
    "s[::-1]"
   ]
  },
  {
   "cell_type": "code",
   "execution_count": 18,
   "id": "07733c5c",
   "metadata": {},
   "outputs": [
    {
     "data": {
      "text/plain": [
       "'sudhanshu'"
      ]
     },
     "execution_count": 18,
     "metadata": {},
     "output_type": "execute_result"
    }
   ],
   "source": [
    "s"
   ]
  },
  {
   "cell_type": "code",
   "execution_count": 19,
   "id": "ba72106b",
   "metadata": {},
   "outputs": [
    {
     "data": {
      "text/plain": [
       "\"This is my first programming class's\""
      ]
     },
     "execution_count": 19,
     "metadata": {},
     "output_type": "execute_result"
    }
   ],
   "source": [
    "s2"
   ]
  },
  {
   "cell_type": "code",
   "execution_count": 20,
   "id": "142ebd50",
   "metadata": {},
   "outputs": [
    {
     "data": {
      "text/plain": [
       "\"s'ssalc gnimmargorp tsrif ym si sihT\""
      ]
     },
     "execution_count": 20,
     "metadata": {},
     "output_type": "execute_result"
    }
   ],
   "source": [
    "s2[::-1]"
   ]
  },
  {
   "cell_type": "code",
   "execution_count": 21,
   "id": "9a8a209c",
   "metadata": {},
   "outputs": [
    {
     "data": {
      "text/plain": [
       "'sudhanshu'"
      ]
     },
     "execution_count": 21,
     "metadata": {},
     "output_type": "execute_result"
    }
   ],
   "source": [
    "s\n"
   ]
  },
  {
   "cell_type": "code",
   "execution_count": 23,
   "id": "c82d2e41",
   "metadata": {},
   "outputs": [
    {
     "data": {
      "text/plain": [
       "'sudhanshu1'"
      ]
     },
     "execution_count": 23,
     "metadata": {},
     "output_type": "execute_result"
    }
   ],
   "source": [
    "s+'1'"
   ]
  },
  {
   "cell_type": "code",
   "execution_count": 24,
   "id": "41550ba6",
   "metadata": {},
   "outputs": [
    {
     "data": {
      "text/plain": [
       "'sudhanshu2'"
      ]
     },
     "execution_count": 24,
     "metadata": {},
     "output_type": "execute_result"
    }
   ],
   "source": [
    "s+str(2)"
   ]
  },
  {
   "cell_type": "code",
   "execution_count": 26,
   "id": "0d2d57a4",
   "metadata": {},
   "outputs": [
    {
     "data": {
      "text/plain": [
       "9"
      ]
     },
     "execution_count": 26,
     "metadata": {},
     "output_type": "execute_result"
    }
   ],
   "source": [
    "len(s)"
   ]
  },
  {
   "cell_type": "code",
   "execution_count": 28,
   "id": "cfbae25e",
   "metadata": {},
   "outputs": [
    {
     "data": {
      "text/plain": [
       "'sudhanshusudhanshu'"
      ]
     },
     "execution_count": 28,
     "metadata": {},
     "output_type": "execute_result"
    }
   ],
   "source": [
    "s * 2"
   ]
  },
  {
   "cell_type": "code",
   "execution_count": 30,
   "id": "4618b341",
   "metadata": {},
   "outputs": [
    {
     "data": {
      "text/plain": [
       "2"
      ]
     },
     "execution_count": 30,
     "metadata": {},
     "output_type": "execute_result"
    }
   ],
   "source": [
    "s.count('s')"
   ]
  },
  {
   "cell_type": "code",
   "execution_count": 31,
   "id": "ac7a3a62",
   "metadata": {},
   "outputs": [
    {
     "data": {
      "text/plain": [
       "['s', 'dhansh', '']"
      ]
     },
     "execution_count": 31,
     "metadata": {},
     "output_type": "execute_result"
    }
   ],
   "source": [
    "s.split('u')"
   ]
  },
  {
   "cell_type": "code",
   "execution_count": 33,
   "id": "46fcf0af",
   "metadata": {},
   "outputs": [
    {
     "data": {
      "text/plain": [
       "['sudhanshu']"
      ]
     },
     "execution_count": 33,
     "metadata": {},
     "output_type": "execute_result"
    }
   ],
   "source": [
    "s.split(' ')"
   ]
  },
  {
   "cell_type": "code",
   "execution_count": 34,
   "id": "c65d7bd3",
   "metadata": {},
   "outputs": [],
   "source": [
    "s=\"\"\"Samsun, historically known as Sampsounta (Greek: Σαμψούντα) and Amisos (Greek: Αμισός), is a city on the north coast of Turkey, a major Black Sea port. As of 2020 Samsun[a] has a population of around 710,000 people.[1] It is the provincial capital of Samsun Province which has a population of around 1.4 million people. The growing city has two universities, several hospitals, shopping malls, much light manufacturing industry, sports facilities and an opera.\"\"\""
   ]
  },
  {
   "cell_type": "code",
   "execution_count": 35,
   "id": "b37e6d51",
   "metadata": {},
   "outputs": [
    {
     "data": {
      "text/plain": [
       "'Samsun, historically known as Sampsounta (Greek: Σαμψούντα) and Amisos (Greek: Αμισός), is a city on the north coast of Turkey, a major Black Sea port. As of 2020 Samsun[a] has a population of around 710,000 people.[1] It is the provincial capital of Samsun Province which has a population of around 1.4 million people. The growing city has two universities, several hospitals, shopping malls, much light manufacturing industry, sports facilities and an opera.'"
      ]
     },
     "execution_count": 35,
     "metadata": {},
     "output_type": "execute_result"
    }
   ],
   "source": [
    "s"
   ]
  },
  {
   "cell_type": "code",
   "execution_count": 38,
   "id": "7614ca4f",
   "metadata": {},
   "outputs": [],
   "source": [
    "s=s.upper()"
   ]
  },
  {
   "cell_type": "code",
   "execution_count": 39,
   "id": "f335915d",
   "metadata": {},
   "outputs": [
    {
     "data": {
      "text/plain": [
       "'SAMSUN, HISTORICALLY KNOWN AS SAMPSOUNTA (GREEK: ΣΑΜΨΟΎΝΤΑ) AND AMISOS (GREEK: ΑΜΙΣΌΣ), IS A CITY ON THE NORTH COAST OF TURKEY, A MAJOR BLACK SEA PORT. AS OF 2020 SAMSUN[A] HAS A POPULATION OF AROUND 710,000 PEOPLE.[1] IT IS THE PROVINCIAL CAPITAL OF SAMSUN PROVINCE WHICH HAS A POPULATION OF AROUND 1.4 MILLION PEOPLE. THE GROWING CITY HAS TWO UNIVERSITIES, SEVERAL HOSPITALS, SHOPPING MALLS, MUCH LIGHT MANUFACTURING INDUSTRY, SPORTS FACILITIES AND AN OPERA.'"
      ]
     },
     "execution_count": 39,
     "metadata": {},
     "output_type": "execute_result"
    }
   ],
   "source": [
    "s"
   ]
  },
  {
   "cell_type": "code",
   "execution_count": 40,
   "id": "191768e4",
   "metadata": {},
   "outputs": [
    {
     "data": {
      "text/plain": [
       "'samsun, historically known as sampsounta (greek: σαμψούντα) and amisos (greek: αμισός), is a city on the north coast of turkey, a major black sea port. as of 2020 samsun[a] has a population of around 710,000 people.[1] it is the provincial capital of samsun province which has a population of around 1.4 million people. the growing city has two universities, several hospitals, shopping malls, much light manufacturing industry, sports facilities and an opera.'"
      ]
     },
     "execution_count": 40,
     "metadata": {},
     "output_type": "execute_result"
    }
   ],
   "source": [
    "s=s.lower()\n",
    "s"
   ]
  },
  {
   "cell_type": "code",
   "execution_count": 43,
   "id": "5896b7fd",
   "metadata": {},
   "outputs": [
    {
     "data": {
      "text/plain": [
       "'Sudhanshu Kumar'"
      ]
     },
     "execution_count": 43,
     "metadata": {},
     "output_type": "execute_result"
    }
   ],
   "source": [
    "s=\"sudhanshu Kumar\"\n",
    "s.title()"
   ]
  },
  {
   "cell_type": "code",
   "execution_count": 44,
   "id": "f89c64bf",
   "metadata": {},
   "outputs": [
    {
     "data": {
      "text/plain": [
       "'Sudhanshu kumar'"
      ]
     },
     "execution_count": 44,
     "metadata": {},
     "output_type": "execute_result"
    }
   ],
   "source": [
    "s.capitalize()"
   ]
  },
  {
   "cell_type": "code",
   "execution_count": 45,
   "id": "36bb1bdb",
   "metadata": {},
   "outputs": [
    {
     "data": {
      "text/plain": [
       "'SUDHANSHU kUMAR'"
      ]
     },
     "execution_count": 45,
     "metadata": {},
     "output_type": "execute_result"
    }
   ],
   "source": [
    "s.swapcase()"
   ]
  },
  {
   "cell_type": "code",
   "execution_count": 47,
   "id": "4e58b330",
   "metadata": {},
   "outputs": [
    {
     "data": {
      "text/plain": [
       "'ramuK uhsnahdus'"
      ]
     },
     "execution_count": 47,
     "metadata": {},
     "output_type": "execute_result"
    }
   ],
   "source": [
    "''.join(reversed(s))"
   ]
  },
  {
   "cell_type": "code",
   "execution_count": 48,
   "id": "d893b97e",
   "metadata": {},
   "outputs": [
    {
     "data": {
      "text/plain": [
       "'ramuK uhsnahdus'"
      ]
     },
     "execution_count": 48,
     "metadata": {},
     "output_type": "execute_result"
    }
   ],
   "source": [
    "s[::-1]"
   ]
  },
  {
   "cell_type": "code",
   "execution_count": 49,
   "id": "978e0363",
   "metadata": {},
   "outputs": [],
   "source": [
    "s=\"           sudh      \""
   ]
  },
  {
   "cell_type": "code",
   "execution_count": 50,
   "id": "6a91e4ba",
   "metadata": {},
   "outputs": [
    {
     "data": {
      "text/plain": [
       "'sudh'"
      ]
     },
     "execution_count": 50,
     "metadata": {},
     "output_type": "execute_result"
    }
   ],
   "source": [
    "s.strip()"
   ]
  },
  {
   "cell_type": "code",
   "execution_count": 51,
   "id": "d12b882b",
   "metadata": {},
   "outputs": [
    {
     "data": {
      "text/plain": [
       "'           sudh  '"
      ]
     },
     "execution_count": 51,
     "metadata": {},
     "output_type": "execute_result"
    }
   ],
   "source": [
    "s"
   ]
  },
  {
   "cell_type": "code",
   "execution_count": 52,
   "id": "d01b15b9",
   "metadata": {},
   "outputs": [
    {
     "data": {
      "text/plain": [
       "'sudh  '"
      ]
     },
     "execution_count": 52,
     "metadata": {},
     "output_type": "execute_result"
    }
   ],
   "source": [
    "s.lstrip()"
   ]
  },
  {
   "cell_type": "code",
   "execution_count": 53,
   "id": "11e8348e",
   "metadata": {},
   "outputs": [
    {
     "data": {
      "text/plain": [
       "'           sudh'"
      ]
     },
     "execution_count": 53,
     "metadata": {},
     "output_type": "execute_result"
    }
   ],
   "source": [
    "s.rstrip()"
   ]
  },
  {
   "cell_type": "code",
   "execution_count": 54,
   "id": "ec5c071f",
   "metadata": {},
   "outputs": [
    {
     "data": {
      "text/plain": [
       "'s u d h a n s h u'"
      ]
     },
     "execution_count": 54,
     "metadata": {},
     "output_type": "execute_result"
    }
   ],
   "source": [
    "\" \".join(\"sudhanshu\")"
   ]
  },
  {
   "cell_type": "code",
   "execution_count": 55,
   "id": "1f4c4e80",
   "metadata": {},
   "outputs": [
    {
     "data": {
      "text/plain": [
       "'           sudh  '"
      ]
     },
     "execution_count": 55,
     "metadata": {},
     "output_type": "execute_result"
    }
   ],
   "source": [
    "s"
   ]
  },
  {
   "cell_type": "code",
   "execution_count": 61,
   "id": "1dd84362",
   "metadata": {},
   "outputs": [
    {
     "data": {
      "text/plain": [
       "'sudh'"
      ]
     },
     "execution_count": 61,
     "metadata": {},
     "output_type": "execute_result"
    }
   ],
   "source": [
    "s=\"sudh\"\n",
    "s"
   ]
  },
  {
   "cell_type": "code",
   "execution_count": 62,
   "id": "7b430f32",
   "metadata": {},
   "outputs": [
    {
     "data": {
      "text/plain": [
       "'zzzzzzzzsudhzzzzzzzz'"
      ]
     },
     "execution_count": 62,
     "metadata": {},
     "output_type": "execute_result"
    }
   ],
   "source": [
    "s.center(20,'z')"
   ]
  },
  {
   "cell_type": "code",
   "execution_count": 63,
   "id": "daf00867",
   "metadata": {},
   "outputs": [
    {
     "data": {
      "text/plain": [
       "False"
      ]
     },
     "execution_count": 63,
     "metadata": {},
     "output_type": "execute_result"
    }
   ],
   "source": [
    "s.isupper()"
   ]
  },
  {
   "cell_type": "code",
   "execution_count": 64,
   "id": "b85b22a7",
   "metadata": {},
   "outputs": [
    {
     "data": {
      "text/plain": [
       "True"
      ]
     },
     "execution_count": 64,
     "metadata": {},
     "output_type": "execute_result"
    }
   ],
   "source": [
    "s.islower()"
   ]
  },
  {
   "cell_type": "code",
   "execution_count": 65,
   "id": "bdf07c94",
   "metadata": {},
   "outputs": [
    {
     "data": {
      "text/plain": [
       "False"
      ]
     },
     "execution_count": 65,
     "metadata": {},
     "output_type": "execute_result"
    }
   ],
   "source": [
    "s.isspace()"
   ]
  },
  {
   "cell_type": "code",
   "execution_count": 66,
   "id": "5b428080",
   "metadata": {},
   "outputs": [],
   "source": [
    "s4=\" \""
   ]
  },
  {
   "cell_type": "code",
   "execution_count": 67,
   "id": "17af304b",
   "metadata": {},
   "outputs": [
    {
     "data": {
      "text/plain": [
       "True"
      ]
     },
     "execution_count": 67,
     "metadata": {},
     "output_type": "execute_result"
    }
   ],
   "source": [
    "s4.isspace()"
   ]
  },
  {
   "cell_type": "code",
   "execution_count": 68,
   "id": "239f0530",
   "metadata": {},
   "outputs": [
    {
     "data": {
      "text/plain": [
       "False"
      ]
     },
     "execution_count": 68,
     "metadata": {},
     "output_type": "execute_result"
    }
   ],
   "source": [
    "s.isdigit()"
   ]
  },
  {
   "cell_type": "code",
   "execution_count": 69,
   "id": "1bdd1135",
   "metadata": {},
   "outputs": [
    {
     "data": {
      "text/plain": [
       "True"
      ]
     },
     "execution_count": 69,
     "metadata": {},
     "output_type": "execute_result"
    }
   ],
   "source": [
    "s.isalnum()"
   ]
  },
  {
   "cell_type": "code",
   "execution_count": 70,
   "id": "558dcf0c",
   "metadata": {},
   "outputs": [],
   "source": [
    "s=\"sdnsdjnfs123\""
   ]
  },
  {
   "cell_type": "code",
   "execution_count": 72,
   "id": "0b6be0c4",
   "metadata": {},
   "outputs": [
    {
     "data": {
      "text/plain": [
       "False"
      ]
     },
     "execution_count": 72,
     "metadata": {},
     "output_type": "execute_result"
    }
   ],
   "source": [
    "s.isalpha()"
   ]
  },
  {
   "cell_type": "code",
   "execution_count": 73,
   "id": "e2b4c9d1",
   "metadata": {},
   "outputs": [
    {
     "data": {
      "text/plain": [
       "False"
      ]
     },
     "execution_count": 73,
     "metadata": {},
     "output_type": "execute_result"
    }
   ],
   "source": [
    "s.startswith('S')"
   ]
  },
  {
   "cell_type": "code",
   "execution_count": 74,
   "id": "0d336598",
   "metadata": {},
   "outputs": [
    {
     "data": {
      "text/plain": [
       "False"
      ]
     },
     "execution_count": 74,
     "metadata": {},
     "output_type": "execute_result"
    }
   ],
   "source": [
    "s.endswith('u')"
   ]
  },
  {
   "cell_type": "code",
   "execution_count": 75,
   "id": "c6b0b277",
   "metadata": {},
   "outputs": [
    {
     "data": {
      "text/plain": [
       "False"
      ]
     },
     "execution_count": 75,
     "metadata": {},
     "output_type": "execute_result"
    }
   ],
   "source": [
    "s.isnumeric()"
   ]
  },
  {
   "cell_type": "code",
   "execution_count": 76,
   "id": "ff9cb9d8",
   "metadata": {},
   "outputs": [
    {
     "data": {
      "text/plain": [
       "True"
      ]
     },
     "execution_count": 76,
     "metadata": {},
     "output_type": "execute_result"
    }
   ],
   "source": [
    "s.startswith(\"\")"
   ]
  },
  {
   "cell_type": "code",
   "execution_count": 1,
   "id": "cb3fbbbc",
   "metadata": {},
   "outputs": [],
   "source": [
    "s=\"Sudhanshu\""
   ]
  },
  {
   "cell_type": "code",
   "execution_count": 2,
   "id": "c29f1c7a",
   "metadata": {},
   "outputs": [
    {
     "data": {
      "text/plain": [
       "True"
      ]
     },
     "execution_count": 2,
     "metadata": {},
     "output_type": "execute_result"
    }
   ],
   "source": [
    "s.isascii()"
   ]
  },
  {
   "cell_type": "code",
   "execution_count": 5,
   "id": "193c1ae6",
   "metadata": {},
   "outputs": [],
   "source": [
    "s=\"Sudh123\""
   ]
  },
  {
   "cell_type": "code",
   "execution_count": 6,
   "id": "827ae4a0",
   "metadata": {},
   "outputs": [
    {
     "data": {
      "text/plain": [
       "True"
      ]
     },
     "execution_count": 6,
     "metadata": {},
     "output_type": "execute_result"
    }
   ],
   "source": [
    "s.isalnum()"
   ]
  },
  {
   "cell_type": "code",
   "execution_count": 7,
   "id": "c4dd2582",
   "metadata": {},
   "outputs": [
    {
     "data": {
      "text/plain": [
       "False"
      ]
     },
     "execution_count": 7,
     "metadata": {},
     "output_type": "execute_result"
    }
   ],
   "source": [
    "s.isspace()"
   ]
  },
  {
   "cell_type": "code",
   "execution_count": 8,
   "id": "c4ba2da8",
   "metadata": {},
   "outputs": [],
   "source": [
    "s=\" 5 \""
   ]
  },
  {
   "cell_type": "code",
   "execution_count": 9,
   "id": "e8aaf086",
   "metadata": {},
   "outputs": [
    {
     "data": {
      "text/plain": [
       "'######## 5 #########'"
      ]
     },
     "execution_count": 9,
     "metadata": {},
     "output_type": "execute_result"
    }
   ],
   "source": [
    "s.center(20,'#')"
   ]
  },
  {
   "cell_type": "code",
   "execution_count": 10,
   "id": "02e08d0f",
   "metadata": {},
   "outputs": [],
   "source": [
    "s1='1234'"
   ]
  },
  {
   "cell_type": "code",
   "execution_count": 12,
   "id": "d7850866",
   "metadata": {},
   "outputs": [
    {
     "data": {
      "text/plain": [
       "True"
      ]
     },
     "execution_count": 12,
     "metadata": {},
     "output_type": "execute_result"
    }
   ],
   "source": [
    "s1.isalnum()"
   ]
  },
  {
   "cell_type": "code",
   "execution_count": 13,
   "id": "2044046d",
   "metadata": {},
   "outputs": [],
   "source": [
    "s='1234'"
   ]
  },
  {
   "cell_type": "code",
   "execution_count": 14,
   "id": "89ec7b4a",
   "metadata": {},
   "outputs": [
    {
     "data": {
      "text/plain": [
       "True"
      ]
     },
     "execution_count": 14,
     "metadata": {},
     "output_type": "execute_result"
    }
   ],
   "source": [
    "s.isdigit()"
   ]
  },
  {
   "cell_type": "code",
   "execution_count": 15,
   "id": "9a4f1ff3",
   "metadata": {},
   "outputs": [],
   "source": [
    "s2='123 233 233'"
   ]
  },
  {
   "cell_type": "code",
   "execution_count": 16,
   "id": "18a46e7c",
   "metadata": {},
   "outputs": [
    {
     "data": {
      "text/plain": [
       "False"
      ]
     },
     "execution_count": 16,
     "metadata": {},
     "output_type": "execute_result"
    }
   ],
   "source": [
    "s2.isnumeric()"
   ]
  },
  {
   "cell_type": "code",
   "execution_count": 17,
   "id": "29e0fa2d",
   "metadata": {},
   "outputs": [
    {
     "data": {
      "text/plain": [
       "False"
      ]
     },
     "execution_count": 17,
     "metadata": {},
     "output_type": "execute_result"
    }
   ],
   "source": [
    "s2.isdigit()"
   ]
  },
  {
   "cell_type": "code",
   "execution_count": 18,
   "id": "47c7446f",
   "metadata": {},
   "outputs": [],
   "source": [
    "s=\"sudh\""
   ]
  },
  {
   "cell_type": "code",
   "execution_count": 19,
   "id": "2726963f",
   "metadata": {},
   "outputs": [
    {
     "data": {
      "text/plain": [
       "<reversed at 0x24b5c818940>"
      ]
     },
     "execution_count": 19,
     "metadata": {},
     "output_type": "execute_result"
    }
   ],
   "source": [
    "reversed(s)"
   ]
  },
  {
   "cell_type": "code",
   "execution_count": 20,
   "id": "77e0b4e5",
   "metadata": {},
   "outputs": [
    {
     "data": {
      "text/plain": [
       "'idndedudrdodn'"
      ]
     },
     "execution_count": 20,
     "metadata": {},
     "output_type": "execute_result"
    }
   ],
   "source": [
    "'d'.join(\"ineuron\")"
   ]
  },
  {
   "cell_type": "code",
   "execution_count": 21,
   "id": "9682a09c",
   "metadata": {},
   "outputs": [
    {
     "data": {
      "text/plain": [
       "'hdus'"
      ]
     },
     "execution_count": 21,
     "metadata": {},
     "output_type": "execute_result"
    }
   ],
   "source": [
    "''.join(reversed(s))"
   ]
  },
  {
   "cell_type": "code",
   "execution_count": 22,
   "id": "5eb9b291",
   "metadata": {},
   "outputs": [],
   "source": [
    "s='45867.48558'"
   ]
  },
  {
   "cell_type": "code",
   "execution_count": 23,
   "id": "7ce94dfb",
   "metadata": {},
   "outputs": [
    {
     "data": {
      "text/plain": [
       "False"
      ]
     },
     "execution_count": 23,
     "metadata": {},
     "output_type": "execute_result"
    }
   ],
   "source": [
    "s.isdigit()"
   ]
  },
  {
   "cell_type": "code",
   "execution_count": 24,
   "id": "8708f832",
   "metadata": {},
   "outputs": [
    {
     "data": {
      "text/plain": [
       "False"
      ]
     },
     "execution_count": 24,
     "metadata": {},
     "output_type": "execute_result"
    }
   ],
   "source": [
    "s.isnumeric()"
   ]
  },
  {
   "cell_type": "code",
   "execution_count": 25,
   "id": "4cdb0da7",
   "metadata": {},
   "outputs": [],
   "source": [
    "s=\"sudh\\tkumar\\tineuron\""
   ]
  },
  {
   "cell_type": "code",
   "execution_count": 26,
   "id": "6ad8caa6",
   "metadata": {},
   "outputs": [
    {
     "data": {
      "text/plain": [
       "'sudh    kumar   ineuron'"
      ]
     },
     "execution_count": 26,
     "metadata": {},
     "output_type": "execute_result"
    }
   ],
   "source": [
    "s.expandtabs()"
   ]
  },
  {
   "cell_type": "markdown",
   "id": "d6ee781d",
   "metadata": {},
   "source": [
    "# Task Number -1"
   ]
  },
  {
   "cell_type": "raw",
   "id": "e7fcaa9b",
   "metadata": {},
   "source": [
    "s=\"This is my first Python programming class and I am learning Python string and it's function\"\n",
    "1. try to extract data from index one to 300 with a jump of 3\n",
    "2. try to reverse a string without using reverse function\n",
    "3. try to split a string after conversion of entire string in uppercase\n",
    "4. try to convert the whole string in to lower case \n",
    "5. try to capitalize the whole string \n",
    "6. try to write difference b/w isalnum and isalpha()\n",
    "7. examples of expand tab\n",
    "8. examples of strip , lstrip and rstrip\n",
    "9. replace the string character by another charactor by taking own example \n",
    "10. defination of string center function with an example \n",
    "11. own defination of compiler and interpretor without copy paste from internet\n",
    "12. Python is interpretter or compiler language give clearance with your answer \n",
    "13. try to write use case of python as per your understanding "
   ]
  },
  {
   "cell_type": "code",
   "execution_count": 1,
   "id": "973b2dec",
   "metadata": {},
   "outputs": [],
   "source": [
    "s=\"This is my first Python programming class and I am learning Python string and it's function\""
   ]
  },
  {
   "cell_type": "code",
   "execution_count": 3,
   "id": "e86d5cb7",
   "metadata": {},
   "outputs": [
    {
     "data": {
      "text/plain": [
       "'Tssyityopgmncsa alrnPh rgnisutn'"
      ]
     },
     "execution_count": 3,
     "metadata": {},
     "output_type": "execute_result"
    }
   ],
   "source": [
    "# 1. try to extract data from index one to 300 with a jump of 3\n",
    "#s[1:300:3]\n",
    "s[0:300:3]"
   ]
  },
  {
   "cell_type": "code",
   "execution_count": 29,
   "id": "02772d34",
   "metadata": {},
   "outputs": [
    {
     "data": {
      "text/plain": [
       "91"
      ]
     },
     "execution_count": 29,
     "metadata": {},
     "output_type": "execute_result"
    }
   ],
   "source": [
    "#2. try to reverse a string without using reverse function\n",
    "len(s)"
   ]
  },
  {
   "cell_type": "code",
   "execution_count": 4,
   "id": "985509ef",
   "metadata": {},
   "outputs": [
    {
     "data": {
      "text/plain": [
       "\"noitcnuf s'ti dna gnirts nohtyP gninrael ma I dna ssalc gnimmargorp nohtyP tsrif ym si sihT\""
      ]
     },
     "execution_count": 4,
     "metadata": {},
     "output_type": "execute_result"
    }
   ],
   "source": [
    "#s[91:0:-1]\n",
    "s[::-1]"
   ]
  },
  {
   "cell_type": "code",
   "execution_count": 32,
   "id": "38e8f7b7",
   "metadata": {},
   "outputs": [
    {
     "data": {
      "text/plain": [
       "['THIS',\n",
       " 'IS',\n",
       " 'MY',\n",
       " 'FIRST',\n",
       " 'PYTHON',\n",
       " 'PROGRAMMING',\n",
       " 'CLASS',\n",
       " 'AND',\n",
       " 'I',\n",
       " 'AM',\n",
       " 'LEARNING',\n",
       " 'PYTHON',\n",
       " 'STRING',\n",
       " 'AND',\n",
       " \"IT'S\",\n",
       " 'FUNCTION']"
      ]
     },
     "execution_count": 32,
     "metadata": {},
     "output_type": "execute_result"
    }
   ],
   "source": [
    "#3. try to split a string after conversion of entire string in uppercase\n",
    "p=s.upper()\n",
    "p.split()"
   ]
  },
  {
   "cell_type": "code",
   "execution_count": 33,
   "id": "380940bb",
   "metadata": {},
   "outputs": [
    {
     "data": {
      "text/plain": [
       "\"this is my first python programming class and i am learning python string and it's function\""
      ]
     },
     "execution_count": 33,
     "metadata": {},
     "output_type": "execute_result"
    }
   ],
   "source": [
    "# 4. try to convert the whole string in to lower case\n",
    "s.lower()"
   ]
  },
  {
   "cell_type": "code",
   "execution_count": 34,
   "id": "ce6ebdca",
   "metadata": {},
   "outputs": [
    {
     "data": {
      "text/plain": [
       "\"This is my first python programming class and i am learning python string and it's function\""
      ]
     },
     "execution_count": 34,
     "metadata": {},
     "output_type": "execute_result"
    }
   ],
   "source": [
    "# 5. try to capitalize the whole string \n",
    "s.capitalize()"
   ]
  },
  {
   "cell_type": "raw",
   "id": "de961f9e",
   "metadata": {},
   "source": [
    "6. try to write difference b/w isalnum and isalpha()\n",
    "isalnum:\n",
    "this function writes true if the given string has either alphabets or numerics or both \n",
    "isalpha:\n",
    "This function checks whether given string has only alphabets if given string has any numeric or only numerics then this function write output as False.\n"
   ]
  },
  {
   "cell_type": "code",
   "execution_count": 36,
   "id": "431553db",
   "metadata": {},
   "outputs": [
    {
     "data": {
      "text/plain": [
       "'I       like    fullstack       data    science course'"
      ]
     },
     "execution_count": 36,
     "metadata": {},
     "output_type": "execute_result"
    }
   ],
   "source": [
    "#7. examples of expand tab\n",
    "k=\"I\\tlike\\tfullstack\\tdata\\tscience\\tcourse\"\n",
    "k.expandtabs()\n"
   ]
  },
  {
   "cell_type": "code",
   "execution_count": 38,
   "id": "6b55998d",
   "metadata": {},
   "outputs": [
    {
     "data": {
      "text/plain": [
       "'FDS     classes are\\x0bery informative     and     interesting'"
      ]
     },
     "execution_count": 38,
     "metadata": {},
     "output_type": "execute_result"
    }
   ],
   "source": [
    "l=\"FDS\\tclasses\\tare\\very\\tinformative\\tand\\tinteresting\"\n",
    "l.expandtabs()"
   ]
  },
  {
   "cell_type": "code",
   "execution_count": 39,
   "id": "b9968984",
   "metadata": {},
   "outputs": [
    {
     "data": {
      "text/plain": [
       "'Sudhanshu'"
      ]
     },
     "execution_count": 39,
     "metadata": {},
     "output_type": "execute_result"
    }
   ],
   "source": [
    "#8. examples of strip , lstrip and rstrip\n",
    "m='        Sudhanshu        '\n",
    "m.strip()"
   ]
  },
  {
   "cell_type": "code",
   "execution_count": 40,
   "id": "b823bee1",
   "metadata": {},
   "outputs": [
    {
     "data": {
      "text/plain": [
       "'Sudhanshu        '"
      ]
     },
     "execution_count": 40,
     "metadata": {},
     "output_type": "execute_result"
    }
   ],
   "source": [
    "m.lstrip()"
   ]
  },
  {
   "cell_type": "code",
   "execution_count": 41,
   "id": "e3da2e56",
   "metadata": {},
   "outputs": [
    {
     "data": {
      "text/plain": [
       "'        Sudhanshu'"
      ]
     },
     "execution_count": 41,
     "metadata": {},
     "output_type": "execute_result"
    }
   ],
   "source": [
    "m.rstrip()"
   ]
  },
  {
   "cell_type": "code",
   "execution_count": 43,
   "id": "a350cdc8",
   "metadata": {},
   "outputs": [
    {
     "data": {
      "text/plain": [
       "'rudhanrhu'"
      ]
     },
     "execution_count": 43,
     "metadata": {},
     "output_type": "execute_result"
    }
   ],
   "source": [
    "#9. replace the string character by another charactor by taking own example\n",
    "n=\"sudhanshu\"\n",
    "n.replace('s','r')"
   ]
  },
  {
   "cell_type": "code",
   "execution_count": 44,
   "id": "a3d64e87",
   "metadata": {},
   "outputs": [
    {
     "data": {
      "text/plain": [
       "'@@@@@@@@@@sudhanshu@@@@@@@@@@@'"
      ]
     },
     "execution_count": 44,
     "metadata": {},
     "output_type": "execute_result"
    }
   ],
   "source": [
    "# 10. defination of string center function with an example \n",
    "s=\"sudhanshu\"\n",
    "s.center(30,'@')\n",
    "# string Center function: It writes the given string in a center of the defined space and remain empty space will be filled \n",
    "#with the proposed string character as shown above. "
   ]
  },
  {
   "cell_type": "raw",
   "id": "1fc7d0a9",
   "metadata": {},
   "source": [
    "# 11. own defination of compiler and interpretor without copy paste from internet\n",
    "Compiler: Comiler checks the entire program to identify the errors in the program, if any errors find in the program then \n",
    "compiler display the corresponding error message with the program line number and error location and once the compiler throw  \n",
    "the error then the next step program execution will be stopped.\n",
    "\n",
    "Interpretter: It converts the program to machine language to execute the same by machine"
   ]
  },
  {
   "cell_type": "raw",
   "id": "92485011",
   "metadata": {},
   "source": [
    "12. Python is interpretter or compiler language give clearance with your answer \n",
    "Python is interpretter language and compiler language because in python first compilation happens then interpretition will be done."
   ]
  },
  {
   "cell_type": "raw",
   "id": "fa8311e3",
   "metadata": {},
   "source": [
    "13. try to write use case of python as per your understanding \n",
    "Python will be used for \n",
    "a. Data Science \n",
    "b. To Automate the tasks \n",
    "c. Desktop apps creation\n",
    "d.Websites creation\n",
    "e. Games creation \n",
    "\n"
   ]
  }
 ],
 "metadata": {
  "kernelspec": {
   "display_name": "Python 3 (ipykernel)",
   "language": "python",
   "name": "python3"
  },
  "language_info": {
   "codemirror_mode": {
    "name": "ipython",
    "version": 3
   },
   "file_extension": ".py",
   "mimetype": "text/x-python",
   "name": "python",
   "nbconvert_exporter": "python",
   "pygments_lexer": "ipython3",
   "version": "3.9.7"
  }
 },
 "nbformat": 4,
 "nbformat_minor": 5
}
