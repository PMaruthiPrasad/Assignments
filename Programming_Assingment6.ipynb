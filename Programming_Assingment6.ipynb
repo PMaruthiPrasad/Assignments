{
 "cells": [
  {
   "cell_type": "markdown",
   "id": "2cc74317",
   "metadata": {},
   "source": [
    "# 1.\tWrite a Python Program to Display Fibonacci Sequence Using Recursion?"
   ]
  },
  {
   "cell_type": "code",
   "execution_count": 3,
   "id": "03090d7b",
   "metadata": {},
   "outputs": [],
   "source": [
    "def fibonacci(n):\n",
    "    if n <= 0:\n",
    "        return []\n",
    "    if n == 1:\n",
    "        return [1]\n",
    "    if n == 2:\n",
    "        return [1, 1]\n",
    "    \n",
    "    # Recursive call to generate the Fibonacci series\n",
    "    fib_series = fibonacci(n - 1)\n",
    "    fib_series.append(fib_series[-1] + fib_series[-2])\n",
    "    \n",
    "    return fib_series\n",
    "\n",
    "\n"
   ]
  },
  {
   "cell_type": "code",
   "execution_count": 5,
   "id": "51194034",
   "metadata": {},
   "outputs": [
    {
     "name": "stdout",
     "output_type": "stream",
     "text": [
      "[1, 1, 2, 3, 5, 8, 13, 21, 34, 55]\n"
     ]
    }
   ],
   "source": [
    "n = 10  \n",
    "result = fibonacci(n)\n",
    "print(result)"
   ]
  },
  {
   "cell_type": "markdown",
   "id": "34d45fc6",
   "metadata": {},
   "source": [
    "# 2.\tWrite a Python Program to Find Factorial of Number Using Recursion?"
   ]
  },
  {
   "cell_type": "code",
   "execution_count": 10,
   "id": "a15cd47e",
   "metadata": {},
   "outputs": [],
   "source": [
    "def fact(n):\n",
    "    if n==1:\n",
    "        return 1\n",
    "        \n",
    "    return n*fact(n-1)"
   ]
  },
  {
   "cell_type": "code",
   "execution_count": 11,
   "id": "ffe49ae8",
   "metadata": {},
   "outputs": [
    {
     "name": "stdout",
     "output_type": "stream",
     "text": [
      "120\n"
     ]
    }
   ],
   "source": [
    "k=fact(5)\n",
    "print(k)"
   ]
  },
  {
   "cell_type": "markdown",
   "id": "49d92e1a",
   "metadata": {},
   "source": [
    "# 3.\tWrite a Python Program to calculate your Body Mass Index?"
   ]
  },
  {
   "cell_type": "code",
   "execution_count": 5,
   "id": "4ed9a1d9",
   "metadata": {},
   "outputs": [],
   "source": [
    "def bmi():\n",
    "    w,h=input('Enter body weight in kg and height is meters').split()\n",
    "    w,h=float(w),float(h)\n",
    "    k=(w)/(h*h)\n",
    "    return k"
   ]
  },
  {
   "cell_type": "code",
   "execution_count": 6,
   "id": "2a5b881e",
   "metadata": {},
   "outputs": [
    {
     "name": "stdout",
     "output_type": "stream",
     "text": [
      "Enter body weight in kg and height is meters72.57 1.78\n"
     ]
    },
    {
     "data": {
      "text/plain": [
       "22.904305011993433"
      ]
     },
     "execution_count": 6,
     "metadata": {},
     "output_type": "execute_result"
    }
   ],
   "source": [
    "bmi()"
   ]
  },
  {
   "cell_type": "markdown",
   "id": "0592ac77",
   "metadata": {},
   "source": [
    "# 4.\tWrite a Python Program to calculate the natural logarithm of any number?"
   ]
  },
  {
   "cell_type": "code",
   "execution_count": 1,
   "id": "16964db4",
   "metadata": {},
   "outputs": [],
   "source": [
    "import math\n",
    "def logarithm(n):\n",
    "    return math.log(n)\n",
    "    "
   ]
  },
  {
   "cell_type": "code",
   "execution_count": 2,
   "id": "93f3a6d0",
   "metadata": {},
   "outputs": [
    {
     "name": "stdout",
     "output_type": "stream",
     "text": [
      "2.302585092994046\n"
     ]
    }
   ],
   "source": [
    "k=logarithm(10)\n",
    "print(k)"
   ]
  },
  {
   "cell_type": "markdown",
   "id": "8ce50546",
   "metadata": {},
   "source": [
    "# 5.\tWrite a Python Program for cube sum of first n natural numbers?"
   ]
  },
  {
   "cell_type": "code",
   "execution_count": 7,
   "id": "4cdd0292",
   "metadata": {},
   "outputs": [],
   "source": [
    "def sumofCubes(n):\n",
    "    k=(n*n)*(n+1)*(n+1)/4\n",
    "    return k"
   ]
  },
  {
   "cell_type": "code",
   "execution_count": 8,
   "id": "8523d87d",
   "metadata": {},
   "outputs": [
    {
     "name": "stdout",
     "output_type": "stream",
     "text": [
      "3025.0\n"
     ]
    }
   ],
   "source": [
    "l=sumofCubes(10)\n",
    "print(l)"
   ]
  },
  {
   "cell_type": "code",
   "execution_count": null,
   "id": "6446d0e7",
   "metadata": {},
   "outputs": [],
   "source": []
  }
 ],
 "metadata": {
  "kernelspec": {
   "display_name": "Python 3 (ipykernel)",
   "language": "python",
   "name": "python3"
  },
  "language_info": {
   "codemirror_mode": {
    "name": "ipython",
    "version": 3
   },
   "file_extension": ".py",
   "mimetype": "text/x-python",
   "name": "python",
   "nbconvert_exporter": "python",
   "pygments_lexer": "ipython3",
   "version": "3.11.4"
  }
 },
 "nbformat": 4,
 "nbformat_minor": 5
}
