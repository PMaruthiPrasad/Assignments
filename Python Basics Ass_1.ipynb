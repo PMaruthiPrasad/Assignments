{
 "cells": [
  {
   "cell_type": "raw",
   "id": "234c6906",
   "metadata": {},
   "source": [
    "Q1.\n",
    "* (expression) \n",
    "'hello' (value)\n",
    "-87.8 (value)\n",
    "- (expression) \n",
    "/ (expression) \n",
    "+ (expression) \n",
    "6 (value)"
   ]
  },
  {
   "cell_type": "raw",
   "id": "3b10d523",
   "metadata": {},
   "source": [
    "Q2. What is the difference between string and variable?\n",
    "\n",
    "String: string is a data type, which contain alphabets, numerics,special characters,an or mathematical operators. string will be represented in side a single quotes (' ') or double quotes (\" \")\n",
    "\n",
    "variable: Is a memory space, which stores some data.variable will be represented with alphabets or combination os alphabets and numbers."
   ]
  },
  {
   "cell_type": "raw",
   "id": "b470fe72",
   "metadata": {},
   "source": [
    "Q3. Describe three different data types.\n",
    "Integers: Integer data type has natural numbers without any decimal places.\n",
    "Eg: 1,2,3,-1,-2,0\n",
    "Floating data type: Floating data type has the numbers with decimal places in it.\n",
    "Eg: -1.0,0.5, 2.5\n",
    "String: string is a data type, which contain alphabets, numerics,special characters,an or mathematical operators. string will be represented in side a single quotes (' ') or double quotes (\" \") "
   ]
  },
  {
   "cell_type": "raw",
   "id": "89c65cbf",
   "metadata": {},
   "source": [
    "Q4. What is an expression made up of? What do all expressions do?\n",
    "Expressions are mathematical operators, which will be used to manuplate the data based on requirements.\n",
    "Eg for expressions are , +,-,*,/,//.\n",
    "\n"
   ]
  },
  {
   "cell_type": "raw",
   "id": "2862b10f",
   "metadata": {},
   "source": [
    "Q5. This assignment statements, like spam = 10. What is the difference between an\n",
    "expression and a statement?\n",
    "Epression is a mamthematical operator, which will be used to maniplate the data \n",
    "statement is a string data type, which convey some information"
   ]
  },
  {
   "cell_type": "raw",
   "id": "a1599fcf",
   "metadata": {},
   "source": [
    "# Q6. After running the following code, what does the variable bacon contain?\n",
    "bacon = 22\n",
    "bacon + 1\n",
    "\n",
    "bacon contains 22."
   ]
  },
  {
   "cell_type": "raw",
   "id": "e8fb5f88",
   "metadata": {},
   "source": [
    "# Q7. What should the values of the following two terms be?\n",
    "\n",
    "'spamspamspam'\n",
    "'spamspamspam'\n"
   ]
  },
  {
   "cell_type": "raw",
   "id": "31450a0f",
   "metadata": {},
   "source": [
    "#Q8. Why is eggs a valid variable name while 100 is invalid?\n",
    "variable names can be alphabets or combination of alphabets and numeric.\n",
    "But variavle name can't be start with a numeric value. Python program not accept it as a variable.\n",
    "so eggs is a valid variable name but 100 is not."
   ]
  },
  {
   "cell_type": "code",
   "execution_count": 15,
   "id": "20213539",
   "metadata": {},
   "outputs": [
    {
     "data": {
      "text/plain": [
       "(0, 0.0, '')"
      ]
     },
     "execution_count": 15,
     "metadata": {},
     "output_type": "execute_result"
    }
   ],
   "source": [
    "#Q9. What three functions can be used to get the integer, floating-point number, or string\n",
    "#version of a value?\n",
    "int(),float(),str()"
   ]
  },
  {
   "cell_type": "raw",
   "id": "5610db1f",
   "metadata": {},
   "source": [
    "# Q10. Why does this expression cause an error? How can you fix it?\n",
    "#'I have eaten' +99+'burritos'\n",
    "\n",
    "99 is an integer data type and remain two are string data type. so intger can't be added to a string .\n",
    "to make it correct, 99 should be converted to a string data type by keeping 99 in single or double quote. i.e. '99'\n",
    "can be corrected as \n",
    "'I have eaten' +'99'+'burritos'"
   ]
  }
 ],
 "metadata": {
  "kernelspec": {
   "display_name": "Python 3 (ipykernel)",
   "language": "python",
   "name": "python3"
  },
  "language_info": {
   "codemirror_mode": {
    "name": "ipython",
    "version": 3
   },
   "file_extension": ".py",
   "mimetype": "text/x-python",
   "name": "python",
   "nbconvert_exporter": "python",
   "pygments_lexer": "ipython3",
   "version": "3.9.7"
  }
 },
 "nbformat": 4,
 "nbformat_minor": 5
}
