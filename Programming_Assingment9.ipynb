{
 "cells": [
  {
   "cell_type": "markdown",
   "id": "7783de5e",
   "metadata": {},
   "source": [
    "# 1.\tWrite a Python program to check if the given number is a Disarium Number?"
   ]
  },
  {
   "cell_type": "code",
   "execution_count": 3,
   "id": "186ea10d",
   "metadata": {},
   "outputs": [],
   "source": [
    "def disarium(n):\n",
    "    l=len(str(n))\n",
    "    k=0\n",
    "    p=n\n",
    "    while n>0:\n",
    "        m=n%10\n",
    "        k+=m**(l)\n",
    "        l-=1\n",
    "        n=n//10\n",
    "    if k==p:\n",
    "        return True\n",
    "    else:\n",
    "        return False\n",
    "    "
   ]
  },
  {
   "cell_type": "code",
   "execution_count": 6,
   "id": "7b0a9515",
   "metadata": {},
   "outputs": [
    {
     "name": "stdout",
     "output_type": "stream",
     "text": [
      "True\n"
     ]
    }
   ],
   "source": [
    "k=disarium(135)\n",
    "print(k)"
   ]
  },
  {
   "cell_type": "markdown",
   "id": "141c10ac",
   "metadata": {},
   "source": [
    "# 2.\tWrite a Python program to print all disarium numbers between 1 to 100?"
   ]
  },
  {
   "cell_type": "code",
   "execution_count": 1,
   "id": "8ad43de1",
   "metadata": {},
   "outputs": [],
   "source": [
    "def is_disarium_number(n):\n",
    "    num_str = str(n)\n",
    "    power = 1\n",
    "    total = 0\n",
    "    \n",
    "    for digit in num_str:\n",
    "        total += int(digit) ** power\n",
    "        power += 1\n",
    "    \n",
    "    return total == n\n",
    "\n",
    "def find_disarium_numbers(limit):\n",
    "    disarium_numbers = []\n",
    "    \n",
    "    for i in range(1, limit + 1):\n",
    "        if is_disarium_number(i):\n",
    "            disarium_numbers.append(i)\n",
    "    \n",
    "    return disarium_numbers\n",
    "\n",
    "\n",
    "\n",
    "\n",
    "\n",
    "\n",
    "\n"
   ]
  },
  {
   "cell_type": "code",
   "execution_count": 2,
   "id": "4bfe9739",
   "metadata": {},
   "outputs": [
    {
     "name": "stdout",
     "output_type": "stream",
     "text": [
      "Disarium numbers between 1 and 100: [1, 2, 3, 4, 5, 6, 7, 8, 9, 89]\n"
     ]
    }
   ],
   "source": [
    "limit = 100\n",
    "disarium_numbers = find_disarium_numbers(limit)\n",
    "print(\"Disarium numbers between 1 and 100:\", disarium_numbers)"
   ]
  },
  {
   "cell_type": "markdown",
   "id": "772ea46d",
   "metadata": {},
   "source": [
    "# 3.\tWrite a Python program to check if the given number is Happy Number?"
   ]
  },
  {
   "cell_type": "code",
   "execution_count": 1,
   "id": "cfe418e3",
   "metadata": {},
   "outputs": [
    {
     "name": "stdout",
     "output_type": "stream",
     "text": [
      "Enter a number: 1\n",
      "1 is a Happy Number.\n"
     ]
    }
   ],
   "source": [
    "def is_happy_number(n):\n",
    "    def get_next(num):\n",
    "        total_sum = 0\n",
    "        while num > 0:\n",
    "            num, digit = divmod(num, 10)\n",
    "            total_sum += digit ** 2\n",
    "        return total_sum\n",
    "    \n",
    "    seen = set()\n",
    "    while n != 1 and n not in seen:\n",
    "        seen.add(n)\n",
    "        n = get_next(n)\n",
    "    \n",
    "    return n == 1\n",
    "\n",
    "# Test the function\n",
    "num = int(input(\"Enter a number: \"))\n",
    "if is_happy_number(num):\n",
    "    print(f\"{num} is a Happy Number.\")\n",
    "else:\n",
    "    print(f\"{num} is not a Happy Number.\")\n",
    "\n",
    "    "
   ]
  },
  {
   "cell_type": "markdown",
   "id": "f46f0b6d",
   "metadata": {},
   "source": [
    "# 4.\tWrite a Python program to print all happy numbers between 1 and 100?"
   ]
  },
  {
   "cell_type": "code",
   "execution_count": 2,
   "id": "9256457c",
   "metadata": {},
   "outputs": [
    {
     "name": "stdout",
     "output_type": "stream",
     "text": [
      "Happy numbers between 1 and 100: [1, 7, 10, 13, 19, 23, 28, 31, 32, 44, 49, 68, 70, 79, 82, 86, 91, 94, 97, 100]\n"
     ]
    }
   ],
   "source": [
    "def is_happy_number(n):\n",
    "    def get_next(num):\n",
    "        total_sum = 0\n",
    "        while num > 0:\n",
    "            num, digit = divmod(num, 10)\n",
    "            total_sum += digit ** 2\n",
    "        return total_sum\n",
    "    \n",
    "    seen = set()\n",
    "    while n != 1 and n not in seen:\n",
    "        seen.add(n)\n",
    "        n = get_next(n)\n",
    "    \n",
    "    return n == 1\n",
    "\n",
    "def find_happy_numbers(limit):\n",
    "    happy_numbers = []\n",
    "    for num in range(1, limit + 1):\n",
    "        if is_happy_number(num):\n",
    "            happy_numbers.append(num)\n",
    "    return happy_numbers\n",
    "\n",
    "# Print all happy numbers between 1 and 100\n",
    "happy_numbers = find_happy_numbers(100)\n",
    "print(\"Happy numbers between 1 and 100:\", happy_numbers)\n"
   ]
  },
  {
   "cell_type": "markdown",
   "id": "95cc116c",
   "metadata": {},
   "source": [
    "# 5.\tWrite a Python program to determine whether the given number is a Harshad Number?"
   ]
  },
  {
   "cell_type": "code",
   "execution_count": 11,
   "id": "e4be7714",
   "metadata": {},
   "outputs": [],
   "source": [
    "def harshad(n):\n",
    "    p=n\n",
    "    k=0\n",
    "    while n>0:\n",
    "        m=n%10\n",
    "        k+=m\n",
    "        n=n//10\n",
    "    if p%k==0.0:\n",
    "        return True\n",
    "    else:\n",
    "        return False\n",
    "        \n",
    "        "
   ]
  },
  {
   "cell_type": "code",
   "execution_count": 14,
   "id": "3aac9c3a",
   "metadata": {},
   "outputs": [
    {
     "name": "stdout",
     "output_type": "stream",
     "text": [
      "True\n"
     ]
    }
   ],
   "source": [
    "n=18\n",
    "k=harshad(n)\n",
    "print(k)"
   ]
  },
  {
   "cell_type": "markdown",
   "id": "154cbf08",
   "metadata": {},
   "source": [
    "# 6.\tWrite a Python program to print all pronic numbers between 1 and 100?"
   ]
  },
  {
   "cell_type": "code",
   "execution_count": 3,
   "id": "b473c94d",
   "metadata": {},
   "outputs": [
    {
     "name": "stdout",
     "output_type": "stream",
     "text": [
      "Pronic numbers between 1 and 100: [2, 6, 12, 20, 30, 42, 56, 72, 90]\n"
     ]
    }
   ],
   "source": [
    "def is_pronic_number(n):\n",
    "    for i in range(1, int(n**0.5) + 1):\n",
    "        if i * (i + 1) == n:\n",
    "            return True\n",
    "    return False\n",
    "\n",
    "def find_pronic_numbers(limit):\n",
    "    pronic_numbers = []\n",
    "    for num in range(1, limit + 1):\n",
    "        if is_pronic_number(num):\n",
    "            pronic_numbers.append(num)\n",
    "    return pronic_numbers\n",
    "\n",
    "# Print all pronic numbers between 1 and 100\n",
    "pronic_numbers = find_pronic_numbers(100)\n",
    "print(\"Pronic numbers between 1 and 100:\", pronic_numbers)\n"
   ]
  },
  {
   "cell_type": "code",
   "execution_count": null,
   "id": "e04230ef",
   "metadata": {},
   "outputs": [],
   "source": []
  }
 ],
 "metadata": {
  "kernelspec": {
   "display_name": "Python 3 (ipykernel)",
   "language": "python",
   "name": "python3"
  },
  "language_info": {
   "codemirror_mode": {
    "name": "ipython",
    "version": 3
   },
   "file_extension": ".py",
   "mimetype": "text/x-python",
   "name": "python",
   "nbconvert_exporter": "python",
   "pygments_lexer": "ipython3",
   "version": "3.11.4"
  }
 },
 "nbformat": 4,
 "nbformat_minor": 5
}
