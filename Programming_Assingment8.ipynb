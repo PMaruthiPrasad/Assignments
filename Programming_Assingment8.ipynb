{
 "cells": [
  {
   "cell_type": "markdown",
   "id": "f236f138",
   "metadata": {},
   "source": [
    "# 1.\tWrite a Python Program to Add Two Matrices?"
   ]
  },
  {
   "cell_type": "code",
   "execution_count": 5,
   "id": "0296073a",
   "metadata": {},
   "outputs": [],
   "source": [
    "def add_matrices(m1,m2):\n",
    "    if len(m1)!=len(m2) or len(m1[0])!=len(m2[0]):\n",
    "        return None\n",
    "    result=[]\n",
    "    for i in range (len(m1)):\n",
    "        row=[]        \n",
    "        for j in range(len(m2[0])):\n",
    "            row.append(m1[i][j]+m2[i][j])\n",
    "        result.append(row)\n",
    "    return result\n",
    "            \n",
    "            \n",
    "        "
   ]
  },
  {
   "cell_type": "code",
   "execution_count": 6,
   "id": "2f2fc82a",
   "metadata": {},
   "outputs": [
    {
     "name": "stdout",
     "output_type": "stream",
     "text": [
      "[[3, 4, 5], [6, 7, 8], [9, 10, 11]]\n"
     ]
    }
   ],
   "source": [
    "m1=[[1,1,1],[1,1,1],[1,1,1]]\n",
    "m2=[[2,3,4],[5,6,7],[8,9,10]]\n",
    "k=add_matrices(m1,m2)\n",
    "print(k)"
   ]
  },
  {
   "cell_type": "markdown",
   "id": "cad5069f",
   "metadata": {},
   "source": [
    "# 2.\tWrite a Python Program to Multiply Two Matrices?"
   ]
  },
  {
   "cell_type": "code",
   "execution_count": 8,
   "id": "251ec3e9",
   "metadata": {},
   "outputs": [],
   "source": [
    "# Function to multiply two matrices\n",
    "def multiply_matrices(mat1, mat2):\n",
    "    # Check if the dimensions are compatible for multiplication\n",
    "    if len(mat1[0]) != len(mat2):\n",
    "        return None  # Return None if matrices are not compatible for multiplication\n",
    "    \n",
    "    # Initialize the result matrix with zeros\n",
    "    result = [[0 for _ in range(len(mat2[0]))] for _ in range(len(mat1))]\n",
    "    \n",
    "    # Perform matrix multiplication\n",
    "    for i in range(len(mat1)):\n",
    "        for j in range(len(mat2[0])):\n",
    "            for k in range(len(mat2)):\n",
    "                result[i][j] += mat1[i][k] * mat2[k][j]\n",
    "    \n",
    "    return result\n",
    "\n",
    "\n"
   ]
  },
  {
   "cell_type": "code",
   "execution_count": 9,
   "id": "61e3fa15",
   "metadata": {},
   "outputs": [
    {
     "name": "stdout",
     "output_type": "stream",
     "text": [
      "[58, 64]\n",
      "[139, 154]\n"
     ]
    }
   ],
   "source": [
    "# Example matrices\n",
    "matrix1 = [\n",
    "    [1, 2, 3],\n",
    "    [4, 5, 6]\n",
    "]\n",
    "\n",
    "matrix2 = [\n",
    "    [7, 8],\n",
    "    [9, 10],\n",
    "    [11, 12]\n",
    "]\n",
    "\n",
    "# Call the function to multiply the matrices\n",
    "result_matrix = multiply_matrices(matrix1, matrix2)\n",
    "\n",
    "# Print the result matrix\n",
    "if result_matrix is not None:\n",
    "    for row in result_matrix:\n",
    "        print(row)\n",
    "else:\n",
    "    print(\"Matrices are not compatible for multiplication.\")"
   ]
  },
  {
   "cell_type": "markdown",
   "id": "a8a8327c",
   "metadata": {},
   "source": [
    "# 3.\tWrite a Python Program to Transpose a Matrix?"
   ]
  },
  {
   "cell_type": "code",
   "execution_count": 5,
   "id": "00fc1095",
   "metadata": {},
   "outputs": [],
   "source": [
    "def transpose(mat1):\n",
    "    result=[]\n",
    "    for i in range (len(mat1[0])):\n",
    "        row=[]\n",
    "        for j in range(len(mat1)):\n",
    "            #row[j][i]=mat1[i][j]\n",
    "            row.append(mat1[j][i])\n",
    "        result.append(row)\n",
    "    return result\n",
    "            \n",
    "        "
   ]
  },
  {
   "cell_type": "code",
   "execution_count": 6,
   "id": "aabc93e9",
   "metadata": {},
   "outputs": [
    {
     "name": "stdout",
     "output_type": "stream",
     "text": [
      "[[1, 4], [2, 5], [3, 6]]\n"
     ]
    }
   ],
   "source": [
    "mat1=[[1,2,3],[4,5,6]]\n",
    "k=transpose(mat1)\n",
    "print(k)"
   ]
  },
  {
   "cell_type": "markdown",
   "id": "daa2c308",
   "metadata": {},
   "source": [
    "# 4.\tWrite a Python Program to Sort Words in Alphabetic Order?"
   ]
  },
  {
   "cell_type": "code",
   "execution_count": 13,
   "id": "ce6a628e",
   "metadata": {},
   "outputs": [],
   "source": [
    "def sort_words(sentence):\n",
    "    words=sentence.split()\n",
    "    sorted_words=sorted(words,key=str.lower)\n",
    "    sorted_sentece=' '.join(sorted_words)\n",
    "    return sorted_sentece"
   ]
  },
  {
   "cell_type": "code",
   "execution_count": 14,
   "id": "c4f4d64c",
   "metadata": {},
   "outputs": [
    {
     "name": "stdout",
     "output_type": "stream",
     "text": [
      "a alphabetically is sample sentence sort This to words\n"
     ]
    }
   ],
   "source": [
    "sentence='This is a sample sentence to sort words alphabetically'\n",
    "k=sort_words(sentence)\n",
    "print(k)"
   ]
  },
  {
   "cell_type": "markdown",
   "id": "18b5d1f4",
   "metadata": {},
   "source": [
    "# 5.\tWrite a Python Program to Remove Punctuation From a String?"
   ]
  },
  {
   "cell_type": "code",
   "execution_count": 16,
   "id": "e5acc33a",
   "metadata": {},
   "outputs": [],
   "source": [
    "import string\n",
    "\n",
    "# Function to remove punctuation from a string\n",
    "def remove_punctuation(input_string):\n",
    "    # Create a translation table to remove punctuation characters\n",
    "    translator = str.maketrans('', '', string.punctuation)\n",
    "\n",
    "    # Use translate method to remove punctuation\n",
    "    cleaned_string = input_string.translate(translator)\n",
    "\n",
    "    return cleaned_string\n",
    "\n",
    "\n"
   ]
  },
  {
   "cell_type": "code",
   "execution_count": 17,
   "id": "793606d3",
   "metadata": {},
   "outputs": [
    {
     "name": "stdout",
     "output_type": "stream",
     "text": [
      "Cleaned String:\n",
      "Hello World This is an example string with punctuation\n"
     ]
    }
   ],
   "source": [
    "# Input string with punctuation\n",
    "input_string = \"Hello, World! This is an example string with punctuation.\"\n",
    "\n",
    "# Call the function to remove punctuation\n",
    "cleaned_result = remove_punctuation(input_string)\n",
    "\n",
    "# Print the cleaned string\n",
    "print(\"Cleaned String:\")\n",
    "print(cleaned_result)"
   ]
  },
  {
   "cell_type": "code",
   "execution_count": null,
   "id": "ddb468d9",
   "metadata": {},
   "outputs": [],
   "source": []
  }
 ],
 "metadata": {
  "kernelspec": {
   "display_name": "Python 3 (ipykernel)",
   "language": "python",
   "name": "python3"
  },
  "language_info": {
   "codemirror_mode": {
    "name": "ipython",
    "version": 3
   },
   "file_extension": ".py",
   "mimetype": "text/x-python",
   "name": "python",
   "nbconvert_exporter": "python",
   "pygments_lexer": "ipython3",
   "version": "3.11.4"
  }
 },
 "nbformat": 4,
 "nbformat_minor": 5
}
