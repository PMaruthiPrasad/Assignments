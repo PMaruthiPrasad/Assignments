{
 "cells": [
  {
   "cell_type": "markdown",
   "id": "3927a794",
   "metadata": {},
   "source": [
    "# 1.\tWrite a Python Program to Find the Factorial of a Number?"
   ]
  },
  {
   "cell_type": "code",
   "execution_count": 3,
   "id": "ec54b282",
   "metadata": {},
   "outputs": [],
   "source": [
    "def Factorial(n):\n",
    "    if n==1:\n",
    "        return 1\n",
    "    k=Factorial(n-1)\n",
    "    return n*k"
   ]
  },
  {
   "cell_type": "code",
   "execution_count": 4,
   "id": "cdea6315",
   "metadata": {},
   "outputs": [
    {
     "data": {
      "text/plain": [
       "120"
      ]
     },
     "execution_count": 4,
     "metadata": {},
     "output_type": "execute_result"
    }
   ],
   "source": [
    "n=5\n",
    "Factorial(n)"
   ]
  },
  {
   "cell_type": "markdown",
   "id": "bd3f0c2a",
   "metadata": {},
   "source": [
    "# 2.\tWrite a Python Program to Display the multiplication Table?"
   ]
  },
  {
   "cell_type": "code",
   "execution_count": 9,
   "id": "48017e92",
   "metadata": {},
   "outputs": [],
   "source": [
    "def multiplication(n):\n",
    "    for i in range(11):\n",
    "        print(n,'*',i,'=',int(n*i))"
   ]
  },
  {
   "cell_type": "code",
   "execution_count": 10,
   "id": "b4280afc",
   "metadata": {},
   "outputs": [
    {
     "name": "stdout",
     "output_type": "stream",
     "text": [
      "10 * 0 = 0\n",
      "10 * 1 = 10\n",
      "10 * 2 = 20\n",
      "10 * 3 = 30\n",
      "10 * 4 = 40\n",
      "10 * 5 = 50\n",
      "10 * 6 = 60\n",
      "10 * 7 = 70\n",
      "10 * 8 = 80\n",
      "10 * 9 = 90\n",
      "10 * 10 = 100\n"
     ]
    }
   ],
   "source": [
    "n=10\n",
    "multiplication(n)"
   ]
  },
  {
   "cell_type": "markdown",
   "id": "aa1d7f2d",
   "metadata": {},
   "source": [
    "# 3.\tWrite a Python Program to Print the Fibonacci sequence?"
   ]
  },
  {
   "cell_type": "code",
   "execution_count": 55,
   "id": "f2719da8",
   "metadata": {},
   "outputs": [],
   "source": [
    "def fibonacci(n):\n",
    "    a,b=1,1\n",
    "    print(a)\n",
    "    #print(b)\n",
    "    while b<10:\n",
    "        print(b)\n",
    "        c=a+b\n",
    "        a=b\n",
    "        b=c\n",
    "        #print(b)"
   ]
  },
  {
   "cell_type": "code",
   "execution_count": 56,
   "id": "34478f2c",
   "metadata": {},
   "outputs": [
    {
     "name": "stdout",
     "output_type": "stream",
     "text": [
      "1\n",
      "1\n",
      "2\n",
      "3\n",
      "5\n",
      "8\n"
     ]
    }
   ],
   "source": [
    "n=10\n",
    "fibonacci(n)"
   ]
  },
  {
   "cell_type": "markdown",
   "id": "d348f135",
   "metadata": {},
   "source": [
    "# 4.\tWrite a Python Program to Check Armstrong Number?"
   ]
  },
  {
   "cell_type": "code",
   "execution_count": 36,
   "id": "e0ee0734",
   "metadata": {},
   "outputs": [],
   "source": [
    "def Armstrong(n):\n",
    "    #k=str(n)\n",
    "    m=0\n",
    "    p=n\n",
    "    l=len(str(n))\n",
    "    \n",
    "    while n>0:\n",
    "        \n",
    "        k=int(n%10)\n",
    "        \n",
    "        m+=(k**l)\n",
    "        \n",
    "        n=n//10\n",
    "    \n",
    "    if m==p:\n",
    "        print(p,'is a armstrong number')\n",
    "    else:\n",
    "        print(p,'is not a armstrong number')\n",
    "        "
   ]
  },
  {
   "cell_type": "code",
   "execution_count": 37,
   "id": "d1ab97d0",
   "metadata": {},
   "outputs": [
    {
     "name": "stdout",
     "output_type": "stream",
     "text": [
      "153 is a armstrong number\n"
     ]
    }
   ],
   "source": [
    "n=153\n",
    "Armstrong(n)"
   ]
  },
  {
   "cell_type": "markdown",
   "id": "58980f60",
   "metadata": {},
   "source": [
    "# 5.\tWrite a Python Program to Find Armstrong Number in an Interval?"
   ]
  },
  {
   "cell_type": "code",
   "execution_count": 58,
   "id": "ef3adaee",
   "metadata": {},
   "outputs": [
    {
     "name": "stdout",
     "output_type": "stream",
     "text": [
      "Enter the start of the interval: 0\n",
      "Enter the end of the interval: 200\n",
      "Armstrong numbers in the interval [0, 200]: [0, 1, 2, 3, 4, 5, 6, 7, 8, 9, 153]\n"
     ]
    }
   ],
   "source": [
    "def is_armstrong_number(num):\n",
    "    order = len(str(num))\n",
    "    temp = num\n",
    "    total = 0\n",
    "    \n",
    "    while temp > 0:\n",
    "        digit = temp % 10\n",
    "        total += digit ** order\n",
    "        temp //= 10\n",
    "        \n",
    "    return num == total\n",
    "\n",
    "def find_armstrong_numbers_in_interval(start, end):\n",
    "    armstrong_numbers = []\n",
    "    \n",
    "    for num in range(start, end + 1):\n",
    "        if is_armstrong_number(num):\n",
    "            armstrong_numbers.append(num)\n",
    "    \n",
    "    return armstrong_numbers\n",
    "\n",
    "start = int(input(\"Enter the start of the interval: \"))\n",
    "end = int(input(\"Enter the end of the interval: \"))\n",
    "\n",
    "armstrong_numbers = find_armstrong_numbers_in_interval(start, end)\n",
    "print(f\"Armstrong numbers in the interval [{start}, {end}]: {armstrong_numbers}\")\n"
   ]
  },
  {
   "cell_type": "markdown",
   "id": "670eedf4",
   "metadata": {},
   "source": [
    "# 6.\tWrite a Python Program to Find the Sum of Natural Numbers?"
   ]
  },
  {
   "cell_type": "code",
   "execution_count": 39,
   "id": "bc9f17ba",
   "metadata": {},
   "outputs": [],
   "source": [
    "def sumNatural(n):\n",
    "    print('sum:',int(n*(n+1)/2))"
   ]
  },
  {
   "cell_type": "code",
   "execution_count": 40,
   "id": "36ad1f84",
   "metadata": {},
   "outputs": [
    {
     "name": "stdout",
     "output_type": "stream",
     "text": [
      "sum: 55\n"
     ]
    }
   ],
   "source": [
    "n=10\n",
    "sumNatural(n)"
   ]
  },
  {
   "cell_type": "code",
   "execution_count": null,
   "id": "1a50fb7b",
   "metadata": {},
   "outputs": [],
   "source": []
  }
 ],
 "metadata": {
  "kernelspec": {
   "display_name": "Python 3 (ipykernel)",
   "language": "python",
   "name": "python3"
  },
  "language_info": {
   "codemirror_mode": {
    "name": "ipython",
    "version": 3
   },
   "file_extension": ".py",
   "mimetype": "text/x-python",
   "name": "python",
   "nbconvert_exporter": "python",
   "pygments_lexer": "ipython3",
   "version": "3.9.7"
  }
 },
 "nbformat": 4,
 "nbformat_minor": 5
}
