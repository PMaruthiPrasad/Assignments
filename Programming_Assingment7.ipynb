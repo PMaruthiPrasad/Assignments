{
 "cells": [
  {
   "cell_type": "markdown",
   "id": "0f6cbd96",
   "metadata": {},
   "source": [
    "# 1.\tWrite a Python Program to find sum of array?"
   ]
  },
  {
   "cell_type": "code",
   "execution_count": 1,
   "id": "031bb56c",
   "metadata": {},
   "outputs": [],
   "source": [
    "def sumArray(l):\n",
    "    k=0\n",
    "    for ele in l:\n",
    "        k+=ele\n",
    "    return k"
   ]
  },
  {
   "cell_type": "code",
   "execution_count": 2,
   "id": "10dcda22",
   "metadata": {},
   "outputs": [
    {
     "name": "stdout",
     "output_type": "stream",
     "text": [
      "6\n"
     ]
    }
   ],
   "source": [
    "l=[1,1,1,1,1,1]\n",
    "k=sumArray(l)\n",
    "print(k)"
   ]
  },
  {
   "cell_type": "markdown",
   "id": "a43a01e8",
   "metadata": {},
   "source": [
    "# 2.\tWrite a Python Program to find largest element in an array?"
   ]
  },
  {
   "cell_type": "code",
   "execution_count": 3,
   "id": "a7010c97",
   "metadata": {},
   "outputs": [],
   "source": [
    "def large(l):\n",
    "    larg=l[0]\n",
    "    for i in range(1,len(l)):\n",
    "        if l[i]>larg:\n",
    "            larg=l[i]\n",
    "    return larg"
   ]
  },
  {
   "cell_type": "code",
   "execution_count": 4,
   "id": "675b4457",
   "metadata": {},
   "outputs": [
    {
     "name": "stdout",
     "output_type": "stream",
     "text": [
      "10\n"
     ]
    }
   ],
   "source": [
    "l=[1,2,3,4,5,6,7,8,9,10]\n",
    "k=large(l)\n",
    "print(k)"
   ]
  },
  {
   "cell_type": "markdown",
   "id": "9ae080c0",
   "metadata": {},
   "source": [
    "# 3.\tWrite a Python Program for array rotation?"
   ]
  },
  {
   "cell_type": "code",
   "execution_count": 22,
   "id": "bd567019",
   "metadata": {},
   "outputs": [],
   "source": [
    "def leftRotation(l,k):\n",
    "    k=l[k:]+l[:k]\n",
    "    #k.append(l[:k])\n",
    "    return k\n",
    "    "
   ]
  },
  {
   "cell_type": "code",
   "execution_count": 23,
   "id": "65365b36",
   "metadata": {},
   "outputs": [
    {
     "name": "stdout",
     "output_type": "stream",
     "text": [
      "[4, 5, 6, 7, 1, 2, 3]\n"
     ]
    }
   ],
   "source": [
    "l=[1,2,3,4,5,6,7]\n",
    "k=3\n",
    "m=leftRotation(l,k)\n",
    "print(m)"
   ]
  },
  {
   "cell_type": "markdown",
   "id": "60b777a6",
   "metadata": {},
   "source": [
    "# 4.\tWrite a Python Program to Split the array and add the first part to the end?"
   ]
  },
  {
   "cell_type": "code",
   "execution_count": 24,
   "id": "80d89ac3",
   "metadata": {},
   "outputs": [],
   "source": [
    "def split_and_add_to_end(arr, split_index):\n",
    "    if split_index >= len(arr) or split_index < 0:\n",
    "        print(\"Invalid split index.\")\n",
    "        return arr\n",
    "\n",
    "    # Split the array into two parts\n",
    "    first_part = arr[:split_index]\n",
    "    second_part = arr[split_index:]\n",
    "\n",
    "    # Concatenate the two parts in reverse order\n",
    "    result = second_part + first_part\n",
    "\n",
    "    return result\n",
    "\n",
    "\n"
   ]
  },
  {
   "cell_type": "code",
   "execution_count": 25,
   "id": "f1b2fd27",
   "metadata": {},
   "outputs": [
    {
     "name": "stdout",
     "output_type": "stream",
     "text": [
      "Original Array: [1, 2, 3, 4, 5, 6, 7, 8]\n",
      "Split and Added Array: [4, 5, 6, 7, 8, 1, 2, 3]\n"
     ]
    }
   ],
   "source": [
    "# Original array\n",
    "original_array = [1, 2, 3, 4, 5, 6, 7, 8]\n",
    "\n",
    "# Split index (where you want to split the array)\n",
    "split_index = 3\n",
    "\n",
    "# Call the function to split and add to the end\n",
    "new_array = split_and_add_to_end(original_array, split_index)\n",
    "\n",
    "# Print the result\n",
    "print(\"Original Array:\", original_array)\n",
    "print(\"Split and Added Array:\", new_array)"
   ]
  },
  {
   "cell_type": "markdown",
   "id": "da265df6",
   "metadata": {},
   "source": [
    "# 5.\tWrite a Python Program to check if given array is Monotonic?"
   ]
  },
  {
   "cell_type": "code",
   "execution_count": 26,
   "id": "155be665",
   "metadata": {},
   "outputs": [],
   "source": [
    "def is_monotonic(array):\n",
    "    increasing = decreasing = True\n",
    "    \n",
    "    # Check if the array is non-increasing\n",
    "    for i in range(1, len(array)):\n",
    "        if array[i] > array[i - 1]:\n",
    "            increasing = False\n",
    "            break\n",
    "    \n",
    "    # Check if the array is non-decreasing\n",
    "    for i in range(1, len(array)):\n",
    "        if array[i] < array[i - 1]:\n",
    "            decreasing = False\n",
    "            break\n",
    "    \n",
    "    # The array is monotonic if either increasing or decreasing is True\n",
    "    return increasing or decreasing\n",
    "\n",
    "\n",
    "        "
   ]
  },
  {
   "cell_type": "code",
   "execution_count": 28,
   "id": "1d0df831",
   "metadata": {},
   "outputs": [
    {
     "name": "stdout",
     "output_type": "stream",
     "text": [
      "Is arr3 monotonic? False\n"
     ]
    }
   ],
   "source": [
    "# Example usage:\n",
    "arr3 = [1, 2, 1]     # Not monotonic\n",
    "\n",
    "print(\"Is arr3 monotonic?\", is_monotonic(arr3))  # Output: False\n"
   ]
  },
  {
   "cell_type": "code",
   "execution_count": null,
   "id": "669672ff",
   "metadata": {},
   "outputs": [],
   "source": []
  }
 ],
 "metadata": {
  "kernelspec": {
   "display_name": "Python 3 (ipykernel)",
   "language": "python",
   "name": "python3"
  },
  "language_info": {
   "codemirror_mode": {
    "name": "ipython",
    "version": 3
   },
   "file_extension": ".py",
   "mimetype": "text/x-python",
   "name": "python",
   "nbconvert_exporter": "python",
   "pygments_lexer": "ipython3",
   "version": "3.11.4"
  }
 },
 "nbformat": 4,
 "nbformat_minor": 5
}
